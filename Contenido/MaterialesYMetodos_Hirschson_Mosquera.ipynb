{
  "nbformat": 4,
  "nbformat_minor": 0,
  "metadata": {
    "colab": {
      "name": "DarkNet-kriyeng-TPFinal.ipynb",
      "provenance": [],
      "collapsed_sections": [
        "GOS2NX5qNLRu",
        "vhqFVGpKQNaR"
      ],
      "toc_visible": true
    },
    "kernelspec": {
      "name": "python3",
      "display_name": "Python 3"
    }
  },
  "cells": [
    {
      "cell_type": "markdown",
      "metadata": {
        "id": "z28AMue075t_",
        "colab_type": "text"
      },
      "source": [
        "\n",
        "##Pre-requisitos"
      ]
    },
    {
      "cell_type": "code",
      "metadata": {
        "id": "CEjpwf4euPfe",
        "colab_type": "code",
        "colab": {
          "base_uri": "https://localhost:8080/",
          "height": 768
        },
        "outputId": "c1b0fe2e-9f47-475c-d5aa-9b1827c8ee83"
      },
      "source": [
        "# install dependencies not included by Colab\n",
        "# use pip3 to ensure compatibility w/ Google Deep Learning Images \n",
        "!pip3 install -q pydicom \n",
        "!pip3 install -q tqdm \n",
        "!pip3 install -q imgaug \n",
        "!pip install tensorflow-io"
      ],
      "execution_count": 1,
      "outputs": [
        {
          "output_type": "stream",
          "text": [
            "\u001b[K     |████████████████████████████████| 35.5MB 108kB/s \n",
            "\u001b[?25hCollecting tensorflow-io\n",
            "\u001b[?25l  Downloading https://files.pythonhosted.org/packages/2d/e4/932f64affa1f3bb5d89650fb0af5ff1b93cd8f73671f20096ae6aa191e80/tensorflow_io-0.14.0-cp36-cp36m-manylinux2010_x86_64.whl (21.8MB)\n",
            "\u001b[K     |████████████████████████████████| 21.8MB 1.5MB/s \n",
            "\u001b[?25hRequirement already satisfied: tensorflow<2.3.0,>=2.2.0 in /usr/local/lib/python3.6/dist-packages (from tensorflow-io) (2.2.0)\n",
            "Requirement already satisfied: opt-einsum>=2.3.2 in /usr/local/lib/python3.6/dist-packages (from tensorflow<2.3.0,>=2.2.0->tensorflow-io) (3.2.1)\n",
            "Requirement already satisfied: h5py<2.11.0,>=2.10.0 in /usr/local/lib/python3.6/dist-packages (from tensorflow<2.3.0,>=2.2.0->tensorflow-io) (2.10.0)\n",
            "Requirement already satisfied: protobuf>=3.8.0 in /usr/local/lib/python3.6/dist-packages (from tensorflow<2.3.0,>=2.2.0->tensorflow-io) (3.12.2)\n",
            "Requirement already satisfied: google-pasta>=0.1.8 in /usr/local/lib/python3.6/dist-packages (from tensorflow<2.3.0,>=2.2.0->tensorflow-io) (0.2.0)\n",
            "Requirement already satisfied: termcolor>=1.1.0 in /usr/local/lib/python3.6/dist-packages (from tensorflow<2.3.0,>=2.2.0->tensorflow-io) (1.1.0)\n",
            "Requirement already satisfied: six>=1.12.0 in /usr/local/lib/python3.6/dist-packages (from tensorflow<2.3.0,>=2.2.0->tensorflow-io) (1.12.0)\n",
            "Requirement already satisfied: gast==0.3.3 in /usr/local/lib/python3.6/dist-packages (from tensorflow<2.3.0,>=2.2.0->tensorflow-io) (0.3.3)\n",
            "Requirement already satisfied: tensorflow-estimator<2.3.0,>=2.2.0 in /usr/local/lib/python3.6/dist-packages (from tensorflow<2.3.0,>=2.2.0->tensorflow-io) (2.2.0)\n",
            "Requirement already satisfied: tensorboard<2.3.0,>=2.2.0 in /usr/local/lib/python3.6/dist-packages (from tensorflow<2.3.0,>=2.2.0->tensorflow-io) (2.2.2)\n",
            "Requirement already satisfied: absl-py>=0.7.0 in /usr/local/lib/python3.6/dist-packages (from tensorflow<2.3.0,>=2.2.0->tensorflow-io) (0.9.0)\n",
            "Requirement already satisfied: wrapt>=1.11.1 in /usr/local/lib/python3.6/dist-packages (from tensorflow<2.3.0,>=2.2.0->tensorflow-io) (1.12.1)\n",
            "Requirement already satisfied: grpcio>=1.8.6 in /usr/local/lib/python3.6/dist-packages (from tensorflow<2.3.0,>=2.2.0->tensorflow-io) (1.30.0)\n",
            "Requirement already satisfied: scipy==1.4.1; python_version >= \"3\" in /usr/local/lib/python3.6/dist-packages (from tensorflow<2.3.0,>=2.2.0->tensorflow-io) (1.4.1)\n",
            "Requirement already satisfied: keras-preprocessing>=1.1.0 in /usr/local/lib/python3.6/dist-packages (from tensorflow<2.3.0,>=2.2.0->tensorflow-io) (1.1.2)\n",
            "Requirement already satisfied: astunparse==1.6.3 in /usr/local/lib/python3.6/dist-packages (from tensorflow<2.3.0,>=2.2.0->tensorflow-io) (1.6.3)\n",
            "Requirement already satisfied: wheel>=0.26; python_version >= \"3\" in /usr/local/lib/python3.6/dist-packages (from tensorflow<2.3.0,>=2.2.0->tensorflow-io) (0.34.2)\n",
            "Requirement already satisfied: numpy<2.0,>=1.16.0 in /usr/local/lib/python3.6/dist-packages (from tensorflow<2.3.0,>=2.2.0->tensorflow-io) (1.18.5)\n",
            "Requirement already satisfied: setuptools in /usr/local/lib/python3.6/dist-packages (from protobuf>=3.8.0->tensorflow<2.3.0,>=2.2.0->tensorflow-io) (49.1.0)\n",
            "Requirement already satisfied: google-auth-oauthlib<0.5,>=0.4.1 in /usr/local/lib/python3.6/dist-packages (from tensorboard<2.3.0,>=2.2.0->tensorflow<2.3.0,>=2.2.0->tensorflow-io) (0.4.1)\n",
            "Requirement already satisfied: google-auth<2,>=1.6.3 in /usr/local/lib/python3.6/dist-packages (from tensorboard<2.3.0,>=2.2.0->tensorflow<2.3.0,>=2.2.0->tensorflow-io) (1.17.2)\n",
            "Requirement already satisfied: markdown>=2.6.8 in /usr/local/lib/python3.6/dist-packages (from tensorboard<2.3.0,>=2.2.0->tensorflow<2.3.0,>=2.2.0->tensorflow-io) (3.2.2)\n",
            "Requirement already satisfied: requests<3,>=2.21.0 in /usr/local/lib/python3.6/dist-packages (from tensorboard<2.3.0,>=2.2.0->tensorflow<2.3.0,>=2.2.0->tensorflow-io) (2.23.0)\n",
            "Requirement already satisfied: tensorboard-plugin-wit>=1.6.0 in /usr/local/lib/python3.6/dist-packages (from tensorboard<2.3.0,>=2.2.0->tensorflow<2.3.0,>=2.2.0->tensorflow-io) (1.7.0)\n",
            "Requirement already satisfied: werkzeug>=0.11.15 in /usr/local/lib/python3.6/dist-packages (from tensorboard<2.3.0,>=2.2.0->tensorflow<2.3.0,>=2.2.0->tensorflow-io) (1.0.1)\n",
            "Requirement already satisfied: requests-oauthlib>=0.7.0 in /usr/local/lib/python3.6/dist-packages (from google-auth-oauthlib<0.5,>=0.4.1->tensorboard<2.3.0,>=2.2.0->tensorflow<2.3.0,>=2.2.0->tensorflow-io) (1.3.0)\n",
            "Requirement already satisfied: cachetools<5.0,>=2.0.0 in /usr/local/lib/python3.6/dist-packages (from google-auth<2,>=1.6.3->tensorboard<2.3.0,>=2.2.0->tensorflow<2.3.0,>=2.2.0->tensorflow-io) (4.1.1)\n",
            "Requirement already satisfied: rsa<5,>=3.1.4; python_version >= \"3\" in /usr/local/lib/python3.6/dist-packages (from google-auth<2,>=1.6.3->tensorboard<2.3.0,>=2.2.0->tensorflow<2.3.0,>=2.2.0->tensorflow-io) (4.6)\n",
            "Requirement already satisfied: pyasn1-modules>=0.2.1 in /usr/local/lib/python3.6/dist-packages (from google-auth<2,>=1.6.3->tensorboard<2.3.0,>=2.2.0->tensorflow<2.3.0,>=2.2.0->tensorflow-io) (0.2.8)\n",
            "Requirement already satisfied: importlib-metadata; python_version < \"3.8\" in /usr/local/lib/python3.6/dist-packages (from markdown>=2.6.8->tensorboard<2.3.0,>=2.2.0->tensorflow<2.3.0,>=2.2.0->tensorflow-io) (1.7.0)\n",
            "Requirement already satisfied: certifi>=2017.4.17 in /usr/local/lib/python3.6/dist-packages (from requests<3,>=2.21.0->tensorboard<2.3.0,>=2.2.0->tensorflow<2.3.0,>=2.2.0->tensorflow-io) (2020.6.20)\n",
            "Requirement already satisfied: chardet<4,>=3.0.2 in /usr/local/lib/python3.6/dist-packages (from requests<3,>=2.21.0->tensorboard<2.3.0,>=2.2.0->tensorflow<2.3.0,>=2.2.0->tensorflow-io) (3.0.4)\n",
            "Requirement already satisfied: urllib3!=1.25.0,!=1.25.1,<1.26,>=1.21.1 in /usr/local/lib/python3.6/dist-packages (from requests<3,>=2.21.0->tensorboard<2.3.0,>=2.2.0->tensorflow<2.3.0,>=2.2.0->tensorflow-io) (1.24.3)\n",
            "Requirement already satisfied: idna<3,>=2.5 in /usr/local/lib/python3.6/dist-packages (from requests<3,>=2.21.0->tensorboard<2.3.0,>=2.2.0->tensorflow<2.3.0,>=2.2.0->tensorflow-io) (2.10)\n",
            "Requirement already satisfied: oauthlib>=3.0.0 in /usr/local/lib/python3.6/dist-packages (from requests-oauthlib>=0.7.0->google-auth-oauthlib<0.5,>=0.4.1->tensorboard<2.3.0,>=2.2.0->tensorflow<2.3.0,>=2.2.0->tensorflow-io) (3.1.0)\n",
            "Requirement already satisfied: pyasn1>=0.1.3 in /usr/local/lib/python3.6/dist-packages (from rsa<5,>=3.1.4; python_version >= \"3\"->google-auth<2,>=1.6.3->tensorboard<2.3.0,>=2.2.0->tensorflow<2.3.0,>=2.2.0->tensorflow-io) (0.4.8)\n",
            "Requirement already satisfied: zipp>=0.5 in /usr/local/lib/python3.6/dist-packages (from importlib-metadata; python_version < \"3.8\"->markdown>=2.6.8->tensorboard<2.3.0,>=2.2.0->tensorflow<2.3.0,>=2.2.0->tensorflow-io) (3.1.0)\n",
            "Installing collected packages: tensorflow-io\n",
            "Successfully installed tensorflow-io-0.14.0\n"
          ],
          "name": "stdout"
        }
      ]
    },
    {
      "cell_type": "code",
      "metadata": {
        "id": "S0Z7CrxlurZP",
        "colab_type": "code",
        "colab": {
          "base_uri": "https://localhost:8080/",
          "height": 34
        },
        "outputId": "7307ce83-4599-4006-e139-d3e95e928181"
      },
      "source": [
        "import os \n",
        "import sys\n",
        "\n",
        "import random\n",
        "import math\n",
        "import numpy as np\n",
        "import cv2\n",
        "import matplotlib.pyplot as plt\n",
        "import json\n",
        "import pydicom\n",
        "from imgaug import augmenters as iaa\n",
        "from tqdm import tqdm\n",
        "import pandas as pd \n",
        "import glob \n",
        "import gc\n",
        "import tensorflow as tf\n",
        "import tensorflow_io as tfio\n",
        "\n",
        "import csv\n",
        "from skimage import io\n",
        "from skimage import measure\n",
        "from skimage.transform import resize\n",
        "\n",
        "from tensorflow import keras\n",
        "\n",
        "from matplotlib import pyplot as plt\n",
        "import matplotlib.patches as patches\n",
        "\n",
        "from keras.callbacks import ModelCheckpoint\n",
        "from keras.optimizers import Adam, rmsprop, SGD\n",
        "\n",
        "import textwrap\n",
        "from xml.sax.saxutils import escape\n",
        "\n",
        "from PIL import Image, ImageOps\n",
        "import numpy as np\n",
        "import matplotlib.pyplot as plt"
      ],
      "execution_count": 2,
      "outputs": [
        {
          "output_type": "stream",
          "text": [
            "Using TensorFlow backend.\n"
          ],
          "name": "stderr"
        }
      ]
    },
    {
      "cell_type": "markdown",
      "metadata": {
        "id": "DFW7fv3s8p_J",
        "colab_type": "text"
      },
      "source": [
        "# Dataset\n",
        "\n",
        "Dado que el dataset ya esta descargado de la competencia de Kaggle, solo se debe configurar la conexión con Drive para tener acceso."
      ]
    },
    {
      "cell_type": "code",
      "metadata": {
        "id": "6j3M0xRgKC8u",
        "colab_type": "code",
        "colab": {
          "base_uri": "https://localhost:8080/",
          "height": 122
        },
        "outputId": "31794ed8-1c1c-4e30-c911-41dc8744cf86"
      },
      "source": [
        "#CONEXIÓN DRIVE \n",
        "from google.colab import drive\n",
        "\n",
        "drive.mount('/content/drive')\n",
        "\n",
        "# Root directory of the project \n",
        "ROOT_DIR = os.path.abspath('/content/RN__TP_Final')\n",
        "\n",
        "# Directory to save logs and trained model\n",
        "MODEL_DIR = os.path.join(ROOT_DIR, 'logs')\n",
        "\n",
        "if not os.path.exists(ROOT_DIR):\n",
        "    os.makedirs(ROOT_DIR)\n",
        "os.chdir(ROOT_DIR)"
      ],
      "execution_count": 4,
      "outputs": [
        {
          "output_type": "stream",
          "text": [
            "Go to this URL in a browser: https://accounts.google.com/o/oauth2/auth?client_id=947318989803-6bn6qk8qdgf4n4g3pfee6491hc0brc4i.apps.googleusercontent.com&redirect_uri=urn%3aietf%3awg%3aoauth%3a2.0%3aoob&response_type=code&scope=email%20https%3a%2f%2fwww.googleapis.com%2fauth%2fdocs.test%20https%3a%2f%2fwww.googleapis.com%2fauth%2fdrive%20https%3a%2f%2fwww.googleapis.com%2fauth%2fdrive.photos.readonly%20https%3a%2f%2fwww.googleapis.com%2fauth%2fpeopleapi.readonly\n",
            "\n",
            "Enter your authorization code:\n",
            "··········\n",
            "Mounted at /content/drive\n"
          ],
          "name": "stdout"
        }
      ]
    },
    {
      "cell_type": "markdown",
      "metadata": {
        "id": "9pPADOf1Ga6I",
        "colab_type": "text"
      },
      "source": [
        "A lo largo del código, se accede a los archivos guardados en Google Drive con estas variables"
      ]
    },
    {
      "cell_type": "code",
      "metadata": {
        "id": "g4ysMAp87hf7",
        "colab_type": "code",
        "colab": {}
      },
      "source": [
        "#Build directions\n",
        "main_dir = '/content/drive/My Drive/Final_redes/RN__TP_Final'\n",
        "train_dicom_dir = os.path.join(main_dir, 'stage_2_train_images')\n",
        "test_dicom_dir = os.path.join(main_dir, 'stage_2_test_images')\n",
        "train_labels_dir = os.path.join(main_dir, 'stage_2_train_labels.csv')"
      ],
      "execution_count": 5,
      "outputs": []
    },
    {
      "cell_type": "markdown",
      "metadata": {
        "id": "zidOGgABGko3",
        "colab_type": "text"
      },
      "source": [
        "Armado de las anotaciones como dataframe de pandas para poder utilizarlas durante el procesamiento"
      ]
    },
    {
      "cell_type": "code",
      "metadata": {
        "id": "PGVMCPORAD6A",
        "colab_type": "code",
        "colab": {
          "base_uri": "https://localhost:8080/",
          "height": 204
        },
        "outputId": "beb136e2-dd5f-4e69-db0d-f49c328d2cf2"
      },
      "source": [
        "#Labels are not longer a class: given a patient id, one or more rows with bounding box coordinates.\n",
        "#If no bounding box, row with id but empty coordinates\n",
        "train_labels = pd.read_csv(os.path.join(main_dir, 'stage_2_train_labels.csv'))\n",
        "train_labels.head(5)"
      ],
      "execution_count": 6,
      "outputs": [
        {
          "output_type": "execute_result",
          "data": {
            "text/html": [
              "<div>\n",
              "<style scoped>\n",
              "    .dataframe tbody tr th:only-of-type {\n",
              "        vertical-align: middle;\n",
              "    }\n",
              "\n",
              "    .dataframe tbody tr th {\n",
              "        vertical-align: top;\n",
              "    }\n",
              "\n",
              "    .dataframe thead th {\n",
              "        text-align: right;\n",
              "    }\n",
              "</style>\n",
              "<table border=\"1\" class=\"dataframe\">\n",
              "  <thead>\n",
              "    <tr style=\"text-align: right;\">\n",
              "      <th></th>\n",
              "      <th>patientId</th>\n",
              "      <th>x</th>\n",
              "      <th>y</th>\n",
              "      <th>width</th>\n",
              "      <th>height</th>\n",
              "      <th>Target</th>\n",
              "    </tr>\n",
              "  </thead>\n",
              "  <tbody>\n",
              "    <tr>\n",
              "      <th>0</th>\n",
              "      <td>0004cfab-14fd-4e49-80ba-63a80b6bddd6</td>\n",
              "      <td>NaN</td>\n",
              "      <td>NaN</td>\n",
              "      <td>NaN</td>\n",
              "      <td>NaN</td>\n",
              "      <td>0</td>\n",
              "    </tr>\n",
              "    <tr>\n",
              "      <th>1</th>\n",
              "      <td>00313ee0-9eaa-42f4-b0ab-c148ed3241cd</td>\n",
              "      <td>NaN</td>\n",
              "      <td>NaN</td>\n",
              "      <td>NaN</td>\n",
              "      <td>NaN</td>\n",
              "      <td>0</td>\n",
              "    </tr>\n",
              "    <tr>\n",
              "      <th>2</th>\n",
              "      <td>00322d4d-1c29-4943-afc9-b6754be640eb</td>\n",
              "      <td>NaN</td>\n",
              "      <td>NaN</td>\n",
              "      <td>NaN</td>\n",
              "      <td>NaN</td>\n",
              "      <td>0</td>\n",
              "    </tr>\n",
              "    <tr>\n",
              "      <th>3</th>\n",
              "      <td>003d8fa0-6bf1-40ed-b54c-ac657f8495c5</td>\n",
              "      <td>NaN</td>\n",
              "      <td>NaN</td>\n",
              "      <td>NaN</td>\n",
              "      <td>NaN</td>\n",
              "      <td>0</td>\n",
              "    </tr>\n",
              "    <tr>\n",
              "      <th>4</th>\n",
              "      <td>00436515-870c-4b36-a041-de91049b9ab4</td>\n",
              "      <td>264.0</td>\n",
              "      <td>152.0</td>\n",
              "      <td>213.0</td>\n",
              "      <td>379.0</td>\n",
              "      <td>1</td>\n",
              "    </tr>\n",
              "  </tbody>\n",
              "</table>\n",
              "</div>"
            ],
            "text/plain": [
              "                              patientId      x      y  width  height  Target\n",
              "0  0004cfab-14fd-4e49-80ba-63a80b6bddd6    NaN    NaN    NaN     NaN       0\n",
              "1  00313ee0-9eaa-42f4-b0ab-c148ed3241cd    NaN    NaN    NaN     NaN       0\n",
              "2  00322d4d-1c29-4943-afc9-b6754be640eb    NaN    NaN    NaN     NaN       0\n",
              "3  003d8fa0-6bf1-40ed-b54c-ac657f8495c5    NaN    NaN    NaN     NaN       0\n",
              "4  00436515-870c-4b36-a041-de91049b9ab4  264.0  152.0  213.0   379.0       1"
            ]
          },
          "metadata": {
            "tags": []
          },
          "execution_count": 6
        }
      ]
    },
    {
      "cell_type": "markdown",
      "metadata": {
        "id": "Y5GxflqQGqkk",
        "colab_type": "text"
      },
      "source": [
        "Armado del dataframe *df* que se utiliza a lo largo del código. Hace un innerjoin del dataframe con las anotaciones (train_labels) y el dataframe con la información de a qué clase original del dataset de NIH pertenecía. Recordar que aquellos registros sin opacidades pulmonares podían ser *Normal* (pacientes sanos) o *No Lung Opacity / Not Normal*. El innerjoin agrega entonces el nombre de su clase, más allá del discriminador de Target que solo discrimina con o sin opacidades."
      ]
    },
    {
      "cell_type": "code",
      "metadata": {
        "id": "K5X1AWGLjoeT",
        "colab_type": "code",
        "colab": {
          "base_uri": "https://localhost:8080/",
          "height": 255
        },
        "outputId": "e9e64226-30ae-4ae4-812c-7fc3439454a2"
      },
      "source": [
        "detailed_class_info = pd.read_csv(os.path.join(main_dir, 'stage_2_detailed_class_info.csv'))\n",
        "train_labels = pd.read_csv(train_labels_dir) \n",
        "\n",
        "df = pd.merge(left = detailed_class_info, right = train_labels, how = 'left', on = 'patientId')\n",
        "\n",
        "del detailed_class_info, train_labels\n",
        "gc.collect()\n",
        "\n",
        "df = df.drop_duplicates()\n",
        "df.info(null_counts = True)"
      ],
      "execution_count": 7,
      "outputs": [
        {
          "output_type": "stream",
          "text": [
            "<class 'pandas.core.frame.DataFrame'>\n",
            "Int64Index: 30227 entries, 0 to 37626\n",
            "Data columns (total 7 columns):\n",
            " #   Column     Non-Null Count  Dtype  \n",
            "---  ------     --------------  -----  \n",
            " 0   patientId  30227 non-null  object \n",
            " 1   class      30227 non-null  object \n",
            " 2   x          9555 non-null   float64\n",
            " 3   y          9555 non-null   float64\n",
            " 4   width      9555 non-null   float64\n",
            " 5   height     9555 non-null   float64\n",
            " 6   Target     30227 non-null  int64  \n",
            "dtypes: float64(4), int64(1), object(2)\n",
            "memory usage: 1.8+ MB\n"
          ],
          "name": "stdout"
        }
      ]
    },
    {
      "cell_type": "markdown",
      "metadata": {
        "id": "GBdIvIx9nErV",
        "colab_type": "text"
      },
      "source": [
        "#Materiales y métodos\n",
        "\n",
        "Se optó por implementar una solución mediante el uso del framework de código abierto *Darknet* escrito en C. Fue desarrollado entre el 2013 y el 2016 por Joseph Redmon, alias *pjreddie* [1]. Sin embargo, para entrenar la red se parte de los pesos de *pjreddie*. Este tipo de implementación con *kriyeng*, utilizando los pesos iniciales de *pjreddie* se ha visto en la gran mayoría de casos investigados que utilizan Yolo v3 [2].  \n",
        "\n",
        "A la hora de elegir un modelo para realizar la detección de opacidades, debe tenerse en cuenta que dicha detección debería realizarse en tiempo real. Esto es porque se la conceptualiza como una asistencia al diagnóstico in-situ. Para poder cumplir con este objetivo, se escogió el sistema YOLO (you only look once), el cual es una herramienta de detección de objetos en tiempo real muy eficiente en cuanto a la velocidad de procesamiento. \n",
        "\n",
        "YOLO es una arquitectura que se basa en la detección de objetos como un problema de regresión a cuadros delimitadores espacialmente separados y probabilidades de clase asociadas directamente de imágenes completas en una evaluación. Dado que todo el sistema de detección es una red única, se puede optimizar de extremo a extremo directamente en el rendimiento de detección. YOLO procesa imágenes en tiempo real a 45 cuadros por segundo. Si bien YOLO no es el mejor detector en cuanto a resultados de accuracies en comparación con los sistemas de detección, es menos probable que prediga falsos positivos y tiene una velocidad superior. A su vez, YOLO aprende representaciones muy generales de objetos. Una sola red convolucional predice simultáneamente múltiples cuadros delimitadores y probabilidades de clase para esos cuadros. YOLO entrena en imágenes completas y optimiza directamente el rendimiento de detección \\cite{kaggle2_}. La estructura de la red se presenta en la figura \\ref{fig:YOLO}. A diferencia de las versiones anteriores, YOLO v3 usa una variante de Darknet, que originalmente tiene una red de 53 capas entrenada en Imagenet. Para la tarea de detección, se apilan 53 capas más, lo que da una arquitectura subyacente totalmente convolucional de 106 capas para YOLO v3. \n",
        "\n",
        "La arquitectura de YoloV3 se basa en conexiones de salto residuales y muestreo ascendente. La característica más destacada de v3 es que realiza detecciones en tres escalas diferentes. YOLO es una red totalmente convolucional y su salida eventual se genera aplicando un núcleo 1 x 1 en un mapa de características. En YOLO v3, la detección se realiza mediante la aplicación de núcleos de detección 1 x 1 en mapas de características de tres tamaños diferentes (reduciendo el muestreo de las dimensiones de la imagen de entrada en 32, 16 y 8 respectivamente) en tres lugares diferentes de la red. \n",
        "\n",
        "La salida es un mapa de características. Gracias a las convoluciones 1 x 1, el tamaño del mapa de predicción es exactamente el tamaño del mapa de características antes que él.  En YOLO v3, la forma en que interpreta este mapa de predicción es que cada celda puede predecir un número fijo de cuadros delimitadores. En cuanto a la profundidad, las entradas en el mapa de características son (B x (5 + C)) en el mapa de características, donde B representa el número de cuadros delimitadores que cada celda puede predecir. Según el documento, cada uno de estos cuadros delimitadores B puede especializarse en detectar un cierto tipo de objeto. Cada uno de los cuadros delimitadores tiene 5 + C atributos, que describen las coordenadas del centro, las dimensiones, la puntuación de objetividad y las confidencias de clase C para cada cuadro delimitador. YOLO v3 predice 3 cuadros delimitadores para cada celda.\n",
        "\n",
        "\n",
        "\n"
      ]
    },
    {
      "cell_type": "code",
      "metadata": {
        "id": "WdUn9e8A3eqQ",
        "colab_type": "code",
        "colab": {
          "base_uri": "https://localhost:8080/",
          "height": 255
        },
        "outputId": "2af50370-2ac9-402d-f7d6-4e5606624ef8"
      },
      "source": [
        "img_dir = '/content/drive/My Drive/Final_redes/yoloV3Arq.png'\n",
        "\n",
        "img = np.array(Image.open(img_dir))\n",
        "plt.figure()\n",
        "plt.imshow(img)"
      ],
      "execution_count": null,
      "outputs": [
        {
          "output_type": "execute_result",
          "data": {
            "text/plain": [
              "<matplotlib.image.AxesImage at 0x7f328897da20>"
            ]
          },
          "metadata": {
            "tags": []
          },
          "execution_count": 9
        },
        {
          "output_type": "display_data",
          "data": {
            "image/png": "[encoded data removed]",
            "text/plain": [
              "<Figure size 432x288 with 1 Axes>"
            ]
          },
          "metadata": {
            "tags": [],
            "needs_background": "light"
          }
        }
      ]
    },
    {
      "cell_type": "markdown",
      "metadata": {
        "id": "hI8NqsLC2WFx",
        "colab_type": "text"
      },
      "source": [
        "Describiendo la arquitectura en si, la primera detección la realiza la capa 82. Para las primeras 81 capas, se tiene un paso de 32. Es decir, con una imagen de 416 x 416, el mapa de características resultante sería de tamaño 13 x 13. En la capa 82 se hace una detección usando el núcleo de detección 1 x 1, lo que nos da un mapa de características de detección de 13 x 13 x 255.\n",
        "Luego, el mapa de características de la capa 79 se somete a unas pocas capas convolucionales antes de ser muestreado en 2x a dimensiones de 26 x 26. Este mapa de características se concatena en profundidad con el mapa de características de la capa 61, tal como se muestra en la imagen presentada anteriormente. Luego, los mapas de características combinados se someten nuevamente a unas pocas capas convolucionales 1 x 1 para fusionar las características de la capa anterior (la 61). La segunda detección es realizada por la capa 94, produciendo un mapa de características de detección de 26 x 26 x 255.\n",
        "Se sigue de nuevo un procedimiento similar, donde el mapa de características de la capa 91 está sujeto a pocas capas convolucionales antes de ser concatenado en profundidad con un mapa de características de la capa 36. Como antes, siguen unas pocas capas convolucionales 1 x 1 para fusionar la información de la capa anterior (la 36). Hacemos el final del 3 en la capa 106, obteniendo un mapa de características de tamaño 52 x 52 x 255.\n",
        "\n",
        "Un detalle importante a mencionar es la capacidad de Yolo v3 frente a v2 de detectar objetos pequeños. Las capas muestreadas concatenadas con las capas anteriores ayudan a preservar las características de grano fino que ayudan a detectar objetos pequeños. De esta manera, la capa 13 x 13 es responsable de detectar objetos grandes, mientras que la capa 52 x 52 detecta los objetos más pequeños, mientras que la capa 26 x 26 detecta objetos medianos. "
      ]
    },
    {
      "cell_type": "markdown",
      "metadata": {
        "id": "RFyig5Bf1_Tg",
        "colab_type": "text"
      },
      "source": [
        "\n",
        "\n",
        "Es posible correr una red neuronal con Darknet en la plataforma de Google Colaboratory, lo cual significó una gran ventaja dado que este trabajo fue realizado en equipo y a distancia.\n",
        "\n",
        "En esta notebook se realiza la conversión de los archivos en formato DICOM (los cuales nos descargamos en la notebook llamada Redes-NeuronalesTpFinal, a formato .jpg\n",
        "Esto es necesario para poder obtener las imagenes y así realizar los entrenamientos correspondientes. A su vez, se configuran los archivos necesarios para poder entrenar la arquitectura Darknet."
      ]
    },
    {
      "cell_type": "markdown",
      "metadata": {
        "id": "PTQLZw255S0A",
        "colab_type": "text"
      },
      "source": [
        "##Métricas de evaluación"
      ]
    },
    {
      "cell_type": "markdown",
      "metadata": {
        "id": "dn4PANDe5WKc",
        "colab_type": "text"
      },
      "source": [
        "El diseño de YOLO permite un entrenamiento de extremo a extremo y velocidades en tiempo real mientras mantiene una alta precisión promedio. El sistema divide la imagen de entrada en una cuadrícula S x  S. Si el centro de un objeto cae en una celda de cuadrícula, esa celda de cuadrícula es responsable de detectar ese objeto. Cada celda de la cuadrícula predice cuadros delimitadores B y puntajes de confianza para esos cuadros. Estos puntajes de confianza reflejan cuán seguro es el modelo de que el cuadro contiene un objeto y también qué tan preciso cree que es el cuadro que predice. Formalmente definimos la confianza como Pr (Objeto)x IOUtruth pred. Si no existe ningún objeto en esa celda, los puntajes de confianza deben ser cero. De lo contrario, queremos que la puntuación de confianza sea igual a la intersección sobre la unión (IOU) entre el cuadro predicho y la verdad básica. Cada cuadro delimitador consta de 5 predicciones: x, y, w, h y confianza. Las coordenadas (x, y) representan el centro del cuadro en relación con los límites de la celda de la cuadrícula. El ancho y la altura se predicen en relación con toda la imagen. Finalmente, la predicción de confianza representa el IOU entre el cuadro predicho y cualquier cuadro de verdad fundamental. Cada celda de la cuadrícula también predice probabilidades de clase condicional C, Pr (Classi | Object). Estas probabilidades están condicionadas por la celda de la cuadrícula que contiene un objeto. Solo predecimos un conjunto de probabilidades de clase por celda de cuadrícula, independientemente del número de casillas B. En el momento de la prueba, multiplicamos las probabilidades de clase condicionales y las predicciones de confianza de casillas individuales, \n",
        "\n",
        "Pr(Class_{i} | Object)*Pr(Object)*IOU{truth pred} = Pr(Class_{i})*IOU{truth pred}\n",
        "\n",
        "lo que nos da puntajes de confianza específicos de clase para cada casilla. Estos puntajes codifican tanto la probabilidad de que esa clase aparezca en el cuadro como qué tan bien se ajusta el cuadro predicho al objeto"
      ]
    },
    {
      "cell_type": "markdown",
      "metadata": {
        "id": "JAAvKkcF5m81",
        "colab_type": "text"
      },
      "source": [
        "##Función de costo"
      ]
    },
    {
      "cell_type": "markdown",
      "metadata": {
        "id": "8hH7ZrZ75tyL",
        "colab_type": "text"
      },
      "source": [
        "La función de costo que se piensa utilizar es la implementada por la estructura de YOLO. Observando los últimos tres términos, el primero penaliza la predicción del puntaje de objetividad para los cuadros delimitadores responsables de predecir objetos (los puntajes para estos deberían ser idealmente 1), el segundo para los cuadros delimitadores que no tienen objetos (los puntajes deberían ser idealmente cero), y el el último penaliza la predicción de clase para el cuadro delimitador que predice los objetos.\n",
        "Los últimos tres términos en YOLO v2 son los errores al cuadrado, mientras que en YOLO v3, han sido reemplazados por términos de error de entropía cruzada. En otras palabras, la confianza del objeto y las predicciones de clase en YOLO v3 ahora se predicen a través de la regresión logística.\n",
        "https://blog.paperspace.com/how-to-implement-a-yolo-object-detector-in-pytorch/"
      ]
    },
    {
      "cell_type": "code",
      "metadata": {
        "id": "p8NjMjGx5wQ3",
        "colab_type": "code",
        "colab": {
          "base_uri": "https://localhost:8080/",
          "height": 262
        },
        "outputId": "20d49886-3ce7-4d38-8fa1-faf214943d89"
      },
      "source": [
        "img_dir = '/content/drive/My Drive/Final_redes/funcion_de_costo (1).PNG'\n",
        "\n",
        "img = np.array(Image.open(img_dir))\n",
        "plt.figure()\n",
        "plt.imshow(img)"
      ],
      "execution_count": null,
      "outputs": [
        {
          "output_type": "execute_result",
          "data": {
            "text/plain": [
              "<matplotlib.image.AxesImage at 0x7f3288a88a20>"
            ]
          },
          "metadata": {
            "tags": []
          },
          "execution_count": 11
        },
        {
          "output_type": "display_data",
          "data": {
            "image/png": "[encoded data removed]",
            "text/plain": [
              "<Figure size 432x288 with 1 Axes>"
            ]
          },
          "metadata": {
            "tags": [],
            "needs_background": "light"
          }
        }
      ]
    },
    {
      "cell_type": "markdown",
      "metadata": {
        "id": "VHCuhE5e7r75",
        "colab_type": "text"
      },
      "source": [
        "# Mass Jpeg Conversion\n",
        "\n",
        "Se utilizó IRFAN View.\n",
        "\n",
        "IrfanView es un software gratuito que permite la conversión de grandes cantidades de archivos. En particular, es reconocido por ser un programa de alta calidad de conversión de archivos tipo DICOM a JPG. Una de las herramientas que posee utilizada en este trabajo es la capacidad de hacer un reshape de las imagenes JPG. Por lo tanto, esto nos permitió quedarnos con un archivo de nuestro dataset original de imágenes 1024x1024 y otro resampleado de 256x256 para el posterior entrenamiento de la red. De esta manera, se realizan dos entrenamientos distintos, con los distintos tamaños de imagen.\n",
        "\n",
        "El hecho de que permite subir una gran cantidad de archivos fue crucial dado que debíamos convertir más de 26 mil imágenes de entrenamiento y 3 mil imágenes más de testeo. Otros softwares requerirían que se suban de a una o solo grupos pequeños de imágenes. La conversión también podría haberse realizado con pydicom pero era una alternativa lenta."
      ]
    },
    {
      "cell_type": "markdown",
      "metadata": {
        "id": "BfPAOfzDiYH8",
        "colab_type": "text"
      },
      "source": [
        "# Armado de las anotaciones\n",
        "En el problema en cuestión, se tiene una única clase a detectar: opacidad pulmonar. Las imágenes normales o anormales que no corresponden a una opacidad pulmonar son consideradas como imágenes con ausencia de objetos a detectar. Darknet enumera las clases para indicar su detección, por lo cual en este caso se tiene una única clase bajo el índice 0.\n",
        "\n",
        "Las anotaciones provistas por RSNA están en formato .csv bajo las leyendas detalladas anteriormente con uno o más registros por imagen, identificadas por el id del paciente. Para su manipulación, se trabajó con dataframes de Pandas.\n",
        "\n",
        "Para poder entrenar la red en Darknet, se necesita que cada una de las imágenes tenga un único archivo correspondiente a las anotaciones de esa imagen. Este archivo debe ser de tipo texto (.txt) con el nombre del id del paciente. Esto es crucial para el binding que realiza Darknet de la anotación con la imagen. Por cada objeto presente debe haber una línea con el formato indicado en la ecuación *anotaciones*, donde:  \n",
        "\n",
        "anotaciones:\n",
        "<n_{class}>  <x_{center}>  <y_{center}>  <width> <height>\n",
        "\n",
        "- *n_class*: corresponde al número de clase\n",
        "- *x_center* y *y_center*: son números decimales que indican la posición del centro de la bounding box con respecto a las dimensiones de la imagen, es decir normalizadas y \n",
        "- *width* y *height* son números decimales que representan el ancho y el alto de la bounding box, también normalizados.\n",
        "\n",
        "Cabe destacar que estos cuatro números varían del 0 al 1. Las imágenes que no poseen opacidad pulmonar también tienen su archivo de anotaciones, solo que vacío. Fue necesario iterar en torno a las anotaciones provistas por RSNA para poder construir las nuevas anotaciones.\n",
        "\n",
        "Para el armado de las anotaciones como las necesita Darknet, se crearon por un lado las anotaciones de las imágenes con opacidades pulmonares y por el otro lado de las imágenes sin opacidades."
      ]
    },
    {
      "cell_type": "markdown",
      "metadata": {
        "id": "LvDshV3DNyFR",
        "colab_type": "text"
      },
      "source": [
        "## Imágenes con opacidades\n",
        "Primero se filtra el dataframe *df* para conservar únicamente las que tengan Target = 1."
      ]
    },
    {
      "cell_type": "code",
      "metadata": {
        "id": "T2dmabT1hg-u",
        "colab_type": "code",
        "colab": {
          "base_uri": "https://localhost:8080/",
          "height": 289
        },
        "outputId": "0cdd81ee-9c1f-4dca-a4ab-eab38ce7fbf8"
      },
      "source": [
        "df_with_op = df[df['Target']==1].copy()\n",
        "df_with_op['class'] = '0'\n",
        "df_with_op['x_center'] = (df_with_op['x']+df_with_op['width'])/2/1024\n",
        "df_with_op['y_center'] = (df_with_op['y']+df_with_op['height'])/2/1024\n",
        "df_with_op['width'] = df_with_op['width']/1024\n",
        "df_with_op['height'] = df_with_op['height']/1024\n",
        "df_with_op.info()"
      ],
      "execution_count": null,
      "outputs": [
        {
          "output_type": "stream",
          "text": [
            "<class 'pandas.core.frame.DataFrame'>\n",
            "Int64Index: 9555 entries, 4 to 37626\n",
            "Data columns (total 9 columns):\n",
            " #   Column     Non-Null Count  Dtype  \n",
            "---  ------     --------------  -----  \n",
            " 0   patientId  9555 non-null   object \n",
            " 1   class      9555 non-null   object \n",
            " 2   x          9555 non-null   float64\n",
            " 3   y          9555 non-null   float64\n",
            " 4   width      9555 non-null   float64\n",
            " 5   height     9555 non-null   float64\n",
            " 6   Target     9555 non-null   int64  \n",
            " 7   x_center   9555 non-null   float64\n",
            " 8   y_center   9555 non-null   float64\n",
            "dtypes: float64(6), int64(1), object(2)\n",
            "memory usage: 746.5+ KB\n"
          ],
          "name": "stdout"
        }
      ]
    },
    {
      "cell_type": "markdown",
      "metadata": {
        "id": "v4tOANnsIm1s",
        "colab_type": "text"
      },
      "source": [
        "En paralelo se arma un dataframe que solo conserva los ids de los pacientes con opacidades. Para esto, se toma solo la columna de patientId del dataframe anterior y se descartan los duplicados ya que puede haber más de una opacidad por paciente y por ende, más de un registro con el mismo patientId."
      ]
    },
    {
      "cell_type": "code",
      "metadata": {
        "id": "EV5mcjTiXgAL",
        "colab_type": "code",
        "colab": {
          "base_uri": "https://localhost:8080/",
          "height": 419
        },
        "outputId": "eece0d27-e132-48fd-e482-28be2b3d0057"
      },
      "source": [
        "df_patients = pd.DataFrame(df_with_op['patientId'].drop_duplicates())\n",
        "\n",
        "df_patients"
      ],
      "execution_count": null,
      "outputs": [
        {
          "output_type": "execute_result",
          "data": {
            "text/html": [
              "<div>\n",
              "<style scoped>\n",
              "    .dataframe tbody tr th:only-of-type {\n",
              "        vertical-align: middle;\n",
              "    }\n",
              "\n",
              "    .dataframe tbody tr th {\n",
              "        vertical-align: top;\n",
              "    }\n",
              "\n",
              "    .dataframe thead th {\n",
              "        text-align: right;\n",
              "    }\n",
              "</style>\n",
              "<table border=\"1\" class=\"dataframe\">\n",
              "  <thead>\n",
              "    <tr style=\"text-align: right;\">\n",
              "      <th></th>\n",
              "      <th>patientId</th>\n",
              "    </tr>\n",
              "  </thead>\n",
              "  <tbody>\n",
              "    <tr>\n",
              "      <th>4</th>\n",
              "      <td>00436515-870c-4b36-a041-de91049b9ab4</td>\n",
              "    </tr>\n",
              "    <tr>\n",
              "      <th>10</th>\n",
              "      <td>00704310-78a8-4b38-8475-49f4573b2dbb</td>\n",
              "    </tr>\n",
              "    <tr>\n",
              "      <th>18</th>\n",
              "      <td>00aecb01-a116-45a2-956c-08d2fa55433f</td>\n",
              "    </tr>\n",
              "    <tr>\n",
              "      <th>22</th>\n",
              "      <td>00c0b293-48e7-4e16-ac76-9269ba535a62</td>\n",
              "    </tr>\n",
              "    <tr>\n",
              "      <th>27</th>\n",
              "      <td>00f08de1-517e-4652-a04f-d1dc9ee48593</td>\n",
              "    </tr>\n",
              "    <tr>\n",
              "      <th>...</th>\n",
              "      <td>...</td>\n",
              "    </tr>\n",
              "    <tr>\n",
              "      <th>37600</th>\n",
              "      <td>c18d1138-ba74-4af5-af21-bdd4d2c96bb5</td>\n",
              "    </tr>\n",
              "    <tr>\n",
              "      <th>37608</th>\n",
              "      <td>c1cddf32-b957-4753-acaa-472ab1447e86</td>\n",
              "    </tr>\n",
              "    <tr>\n",
              "      <th>37615</th>\n",
              "      <td>c1e73a4e-7afe-4ec5-8af6-ce8315d7a2f2</td>\n",
              "    </tr>\n",
              "    <tr>\n",
              "      <th>37619</th>\n",
              "      <td>c1ec14ff-f6d7-4b38-b0cb-fe07041cbdc8</td>\n",
              "    </tr>\n",
              "    <tr>\n",
              "      <th>37625</th>\n",
              "      <td>c1f7889a-9ea9-4acb-b64c-b737c929599a</td>\n",
              "    </tr>\n",
              "  </tbody>\n",
              "</table>\n",
              "<p>6012 rows × 1 columns</p>\n",
              "</div>"
            ],
            "text/plain": [
              "                                  patientId\n",
              "4      00436515-870c-4b36-a041-de91049b9ab4\n",
              "10     00704310-78a8-4b38-8475-49f4573b2dbb\n",
              "18     00aecb01-a116-45a2-956c-08d2fa55433f\n",
              "22     00c0b293-48e7-4e16-ac76-9269ba535a62\n",
              "27     00f08de1-517e-4652-a04f-d1dc9ee48593\n",
              "...                                     ...\n",
              "37600  c18d1138-ba74-4af5-af21-bdd4d2c96bb5\n",
              "37608  c1cddf32-b957-4753-acaa-472ab1447e86\n",
              "37615  c1e73a4e-7afe-4ec5-8af6-ce8315d7a2f2\n",
              "37619  c1ec14ff-f6d7-4b38-b0cb-fe07041cbdc8\n",
              "37625  c1f7889a-9ea9-4acb-b64c-b737c929599a\n",
              "\n",
              "[6012 rows x 1 columns]"
            ]
          },
          "metadata": {
            "tags": []
          },
          "execution_count": 41
        }
      ]
    },
    {
      "cell_type": "markdown",
      "metadata": {
        "id": "DO5euaRvI7eN",
        "colab_type": "text"
      },
      "source": [
        "Se itera en torno al último dataframe generado y se crea el archivo de anotaciones. Para esto, en cada iteración se filtra el dataframe *df_with_op* con el id del paciente de la iteración, se descarta las columnas correspondientes a patientId y Target, conservando únicamente las que deben incluirse en el .txt y guardandolo como un dataframe *opacities*. Por último, se crea un archivo cuyo nombre es el id del paciente y dentro tiene cada registro de las *opacities* separados por un espacio. El archivo se guarda en la carpeta de \"content/RN__TP_FINAL\" de la notebook. Se creó esta carpeta intermedia para poder guardar archivos ahí y luego poder moverlos en bloque."
      ]
    },
    {
      "cell_type": "code",
      "metadata": {
        "id": "LlEiTudtX_5X",
        "colab_type": "code",
        "colab": {}
      },
      "source": [
        "for i_p, row_p in df_patients.iterrows():\n",
        "  patientId = row_p[0]\n",
        "  opacities = df_with_op[df_with_op['patientId']==patientId].dropna()[['class','x_center', 'y_center', 'width', 'height']].copy()\n",
        "  np.savetxt(patientId+\".txt\", opacities, fmt='%s')"
      ],
      "execution_count": null,
      "outputs": []
    },
    {
      "cell_type": "markdown",
      "metadata": {
        "id": "Z88Fgs3MJsPn",
        "colab_type": "text"
      },
      "source": [
        "Este comando mueve los archivos de esta carpeta a la carpeta de Google Drive donde se encuentran las imágenes. Cabe destacar que este código se utilizó múltiples veces ya que se tenían múltiples modelos y algunos tenían su propia copia del dataset."
      ]
    },
    {
      "cell_type": "code",
      "metadata": {
        "id": "vd_Sh_qQjHCp",
        "colab_type": "code",
        "colab": {}
      },
      "source": [
        "!mv /content/RN__TP_Final/* '/content/drive/My Drive/Final_redes/Notebooks/DarkNet-flipped/data/obj'"
      ],
      "execution_count": null,
      "outputs": []
    },
    {
      "cell_type": "markdown",
      "metadata": {
        "id": "uG16B9BPN7mD",
        "colab_type": "text"
      },
      "source": [
        "## Imágenes sin opacidad\n",
        "Este código es semejante al anterior."
      ]
    },
    {
      "cell_type": "code",
      "metadata": {
        "id": "FvFaoouagLqK",
        "colab_type": "code",
        "colab": {
          "base_uri": "https://localhost:8080/",
          "height": 255
        },
        "outputId": "48af703f-078a-4de4-a0b5-ad02442a6d07"
      },
      "source": [
        "df_without_op = df[df['Target']==0].copy()\n",
        "df_without_op.info()"
      ],
      "execution_count": null,
      "outputs": [
        {
          "output_type": "stream",
          "text": [
            "<class 'pandas.core.frame.DataFrame'>\n",
            "Int64Index: 20672 entries, 0 to 37624\n",
            "Data columns (total 7 columns):\n",
            " #   Column     Non-Null Count  Dtype  \n",
            "---  ------     --------------  -----  \n",
            " 0   patientId  20672 non-null  object \n",
            " 1   class      20672 non-null  object \n",
            " 2   x          0 non-null      float64\n",
            " 3   y          0 non-null      float64\n",
            " 4   width      0 non-null      float64\n",
            " 5   height     0 non-null      float64\n",
            " 6   Target     20672 non-null  int64  \n",
            "dtypes: float64(4), int64(1), object(2)\n",
            "memory usage: 1.3+ MB\n"
          ],
          "name": "stdout"
        }
      ]
    },
    {
      "cell_type": "code",
      "metadata": {
        "id": "j-j7dEYUgfYi",
        "colab_type": "code",
        "colab": {
          "base_uri": "https://localhost:8080/",
          "height": 419
        },
        "outputId": "10ba2337-cc9b-48c5-851a-17f262ceb8a1"
      },
      "source": [
        "df_patients_wo = pd.DataFrame(df_without_op['patientId'].drop_duplicates())\n",
        "\n",
        "df_patients_wo"
      ],
      "execution_count": null,
      "outputs": [
        {
          "output_type": "execute_result",
          "data": {
            "text/html": [
              "<div>\n",
              "<style scoped>\n",
              "    .dataframe tbody tr th:only-of-type {\n",
              "        vertical-align: middle;\n",
              "    }\n",
              "\n",
              "    .dataframe tbody tr th {\n",
              "        vertical-align: top;\n",
              "    }\n",
              "\n",
              "    .dataframe thead th {\n",
              "        text-align: right;\n",
              "    }\n",
              "</style>\n",
              "<table border=\"1\" class=\"dataframe\">\n",
              "  <thead>\n",
              "    <tr style=\"text-align: right;\">\n",
              "      <th></th>\n",
              "      <th>patientId</th>\n",
              "    </tr>\n",
              "  </thead>\n",
              "  <tbody>\n",
              "    <tr>\n",
              "      <th>0</th>\n",
              "      <td>0004cfab-14fd-4e49-80ba-63a80b6bddd6</td>\n",
              "    </tr>\n",
              "    <tr>\n",
              "      <th>1</th>\n",
              "      <td>00313ee0-9eaa-42f4-b0ab-c148ed3241cd</td>\n",
              "    </tr>\n",
              "    <tr>\n",
              "      <th>2</th>\n",
              "      <td>00322d4d-1c29-4943-afc9-b6754be640eb</td>\n",
              "    </tr>\n",
              "    <tr>\n",
              "      <th>3</th>\n",
              "      <td>003d8fa0-6bf1-40ed-b54c-ac657f8495c5</td>\n",
              "    </tr>\n",
              "    <tr>\n",
              "      <th>8</th>\n",
              "      <td>00569f44-917d-4c86-a842-81832af98c30</td>\n",
              "    </tr>\n",
              "    <tr>\n",
              "      <th>...</th>\n",
              "      <td>...</td>\n",
              "    </tr>\n",
              "    <tr>\n",
              "      <th>37612</th>\n",
              "      <td>c1cf3255-d734-4980-bfe0-967902ad7ed9</td>\n",
              "    </tr>\n",
              "    <tr>\n",
              "      <th>37613</th>\n",
              "      <td>c1e228e4-b7b4-432b-a735-36c48fdb806f</td>\n",
              "    </tr>\n",
              "    <tr>\n",
              "      <th>37614</th>\n",
              "      <td>c1e3eb82-c55a-471f-a57f-fe1a823469da</td>\n",
              "    </tr>\n",
              "    <tr>\n",
              "      <th>37623</th>\n",
              "      <td>c1edf42b-5958-47ff-a1e7-4f23d99583ba</td>\n",
              "    </tr>\n",
              "    <tr>\n",
              "      <th>37624</th>\n",
              "      <td>c1f6b555-2eb1-4231-98f6-50a963976431</td>\n",
              "    </tr>\n",
              "  </tbody>\n",
              "</table>\n",
              "<p>20672 rows × 1 columns</p>\n",
              "</div>"
            ],
            "text/plain": [
              "                                  patientId\n",
              "0      0004cfab-14fd-4e49-80ba-63a80b6bddd6\n",
              "1      00313ee0-9eaa-42f4-b0ab-c148ed3241cd\n",
              "2      00322d4d-1c29-4943-afc9-b6754be640eb\n",
              "3      003d8fa0-6bf1-40ed-b54c-ac657f8495c5\n",
              "8      00569f44-917d-4c86-a842-81832af98c30\n",
              "...                                     ...\n",
              "37612  c1cf3255-d734-4980-bfe0-967902ad7ed9\n",
              "37613  c1e228e4-b7b4-432b-a735-36c48fdb806f\n",
              "37614  c1e3eb82-c55a-471f-a57f-fe1a823469da\n",
              "37623  c1edf42b-5958-47ff-a1e7-4f23d99583ba\n",
              "37624  c1f6b555-2eb1-4231-98f6-50a963976431\n",
              "\n",
              "[20672 rows x 1 columns]"
            ]
          },
          "metadata": {
            "tags": []
          },
          "execution_count": 14
        }
      ]
    },
    {
      "cell_type": "markdown",
      "metadata": {
        "id": "V4IY_n3ZKo14",
        "colab_type": "text"
      },
      "source": [
        "Por cada iteración, únicamente se crea un archivo vacío de tipo texto con el id del paciente en el nombre."
      ]
    },
    {
      "cell_type": "code",
      "metadata": {
        "id": "tHA3p4Edgrqk",
        "colab_type": "code",
        "colab": {}
      },
      "source": [
        "for i_p, row_p in df_patients_wo.iterrows():\n",
        "  patientId = row_p[0]\n",
        "  open(patientId+\".txt\", 'a').close()"
      ],
      "execution_count": null,
      "outputs": []
    },
    {
      "cell_type": "markdown",
      "metadata": {
        "id": "Ymq2rzmAKwxS",
        "colab_type": "text"
      },
      "source": [
        "Los archivos se mueven en bloque a la misma carpeta."
      ]
    },
    {
      "cell_type": "code",
      "metadata": {
        "id": "R_twUiHnOAg2",
        "colab_type": "code",
        "colab": {}
      },
      "source": [
        "!mv /content/RN__TP_Final/* '/content/drive/My Drive/Final_redes/Notebooks/DarkNet-flipped/data/obj'"
      ],
      "execution_count": null,
      "outputs": []
    },
    {
      "cell_type": "markdown",
      "metadata": {
        "id": "cmrKMPGAc29p",
        "colab_type": "text"
      },
      "source": [
        "## Darkflow\n",
        "Encontramos el trabajo de Jake Huneycutt [3] donde utiliza el framework de Darkflow para resolver este problema en lugar de Darknet. Darkflow es otra implementación de YOLO solo que utiliza YOLO v2 en lugar de YOLO v3 y es menos popular. Intentamos utilizar Darkflow cuando no estábamos seguras si íbamos a poder montar la arquitectura de Darknet ya que estábamos teniendo problemas a la hora de empezar a correr la red. Si bien Darkflow es una peor alternativa en cuanto a a la *performance*, fue considerado como un plan alternativo en caso de no poder utilizar Darknet. Por lo tanto, se prepararon los archivos correspondientes para implementarla. Las secciones en esta notebook de *Set up templates* y *XML generator* representan el intento de implementar Darkflow. Durante dos días, trabajamos ambas alternativas en paralelo hasta que conseguimos compilar la primera red de Darknet y por lo tanto no fue necesario usar Darkflow."
      ]
    },
    {
      "cell_type": "markdown",
      "metadata": {
        "id": "TY_wWMespTqI",
        "colab_type": "text"
      },
      "source": [
        "### Anotaciones\n",
        "El dataframe se arma de forma semejante al de Darknet, solo que con más columnas. Estas serán necesarias para el armado de los archivos por medio de los templates que se presentan más adelante."
      ]
    },
    {
      "cell_type": "code",
      "metadata": {
        "id": "DMJpJCmUBPuj",
        "colab_type": "code",
        "colab": {}
      },
      "source": [
        "df_patients = pd.DataFrame(df_with_op['patientId'].drop_duplicates())\n",
        "df_patients['x_min1'] = np.nan\n",
        "df_patients['y_min1'] = np.nan\n",
        "df_patients['x_max1'] = np.nan\n",
        "df_patients['y_max1'] = np.nan\n",
        "df_patients['x_min2'] = np.nan\n",
        "df_patients['y_min2'] = np.nan\n",
        "df_patients['x_max2'] = np.nan\n",
        "df_patients['y_max2'] = np.nan\n",
        "df_patients['x_min3'] = np.nan\n",
        "df_patients['y_min3'] = np.nan\n",
        "df_patients['x_max3'] = np.nan\n",
        "df_patients['y_max3'] = np.nan\n",
        "df_patients['x_min4'] = np.nan\n",
        "df_patients['y_min4'] = np.nan\n",
        "df_patients['x_max4'] = np.nan\n",
        "df_patients['y_max4'] = np.nan"
      ],
      "execution_count": null,
      "outputs": []
    },
    {
      "cell_type": "code",
      "metadata": {
        "id": "wlDOTm8Xi3sQ",
        "colab_type": "code",
        "colab": {}
      },
      "source": [
        "for i_p, row_p in df_patients.iterrows():\n",
        "  patientId = row_p[0]\n",
        "  opacities = df_with_op[df_with_op['patientId']==patientId]\n",
        "  i_o = 1\n",
        "  for index, row_o in opacities.iterrows():\n",
        "    row_o[2:6] = [int(float(i)) for i in row_o[2:6]]\n",
        "    xminlabel = 'x_min'+str(i_o)\n",
        "    yminlabel = 'y_min'+str(i_o)\n",
        "    xmaxlabel = 'x_max'+str(i_o)\n",
        "    ymaxlabel = 'y_max'+str(i_o)\n",
        "    i_o=i_o+1    \n",
        "    df_patients.loc[i_p, [xminlabel,yminlabel,xmaxlabel,ymaxlabel]] = [row_o[2],row_o[3],row_o[2] + row_o[4],row_o[3] + row_o[5]]"
      ],
      "execution_count": null,
      "outputs": []
    },
    {
      "cell_type": "markdown",
      "metadata": {
        "id": "Wmw2E1C5Mql1",
        "colab_type": "text"
      },
      "source": [
        "Se guarda el archivo como un csv"
      ]
    },
    {
      "cell_type": "code",
      "metadata": {
        "id": "KFKd-PH1j_lh",
        "colab_type": "code",
        "colab": {}
      },
      "source": [
        "df_patients.to_csv('annotations.csv', columns=['patientId','x_min1', 'y_min1','x_max1', 'y_max1','x_min2', 'y_min2','x_max2', 'y_max2','x_min3', 'y_min3','x_max3', 'y_max3','x_min4', 'y_min4','x_max4', 'y_max4'], sep='\\t',index = False)"
      ],
      "execution_count": null,
      "outputs": []
    },
    {
      "cell_type": "markdown",
      "metadata": {
        "id": "iauTZ3xQpX4F",
        "colab_type": "text"
      },
      "source": [
        "### Armado de los dataframes\n",
        "Fue necesario armar un dataframe para cada uno de los templates. Cada dataframe tenía registros con el número de opacidades indicado en el título. Para filtrar, dado que se iban guardando en orden, bastó con filtrar según a partir de qué columna tenían valores nulos."
      ]
    },
    {
      "cell_type": "code",
      "metadata": {
        "id": "V5hhyuRikB8F",
        "colab_type": "code",
        "colab": {
          "base_uri": "https://localhost:8080/",
          "height": 221
        },
        "outputId": "4bfc48ee-484a-4916-b2f2-cc02fa5a92c6"
      },
      "source": [
        "# create df for entries with 1 bounding box\n",
        "df_1box = df_patients[df_patients.x_min2.isnull()]\n",
        "df_1box = df_1box.drop(['x_min2', 'y_min2',\n",
        "       'x_max2', 'y_max2', 'x_min3', 'y_min3', 'x_max3', 'y_max3', 'x_min4',\n",
        "       'y_min4', 'x_max4', 'y_max4'], axis=1)\n",
        "df_1box.info()"
      ],
      "execution_count": null,
      "outputs": [
        {
          "output_type": "stream",
          "text": [
            "<class 'pandas.core.frame.DataFrame'>\n",
            "Int64Index: 2614 entries, 32 to 37597\n",
            "Data columns (total 5 columns):\n",
            " #   Column     Non-Null Count  Dtype  \n",
            "---  ------     --------------  -----  \n",
            " 0   patientId  2614 non-null   object \n",
            " 1   x_min1     2614 non-null   float64\n",
            " 2   y_min1     2614 non-null   float64\n",
            " 3   x_max1     2614 non-null   float64\n",
            " 4   y_max1     2614 non-null   float64\n",
            "dtypes: float64(4), object(1)\n",
            "memory usage: 122.5+ KB\n"
          ],
          "name": "stdout"
        }
      ]
    },
    {
      "cell_type": "code",
      "metadata": {
        "id": "Cm3iC2FXMyLD",
        "colab_type": "code",
        "colab": {
          "base_uri": "https://localhost:8080/",
          "height": 306
        },
        "outputId": "3f80f8a3-4358-421e-ee46-5ae11024bba0"
      },
      "source": [
        "# create df for entries with 2 bounding boxes\n",
        "df_2box = df_patients[df_patients.x_min3.isnull() & df_patients.x_min2.notnull()]\n",
        "df_2box = df_2box.drop(['x_min3', 'y_min3', 'x_max3', 'y_max3', 'x_min4',\n",
        "       'y_min4', 'x_max4', 'y_max4'], axis=1)\n",
        "df_2box.loc[:, 'x_min1':] = df_2box.loc[:, 'x_min1':].astype(int)\n",
        "df_2box.info()"
      ],
      "execution_count": null,
      "outputs": [
        {
          "output_type": "stream",
          "text": [
            "<class 'pandas.core.frame.DataFrame'>\n",
            "Int64Index: 3266 entries, 4 to 37625\n",
            "Data columns (total 9 columns):\n",
            " #   Column     Non-Null Count  Dtype \n",
            "---  ------     --------------  ----- \n",
            " 0   patientId  3266 non-null   object\n",
            " 1   x_min1     3266 non-null   int64 \n",
            " 2   y_min1     3266 non-null   int64 \n",
            " 3   x_max1     3266 non-null   int64 \n",
            " 4   y_max1     3266 non-null   int64 \n",
            " 5   x_min2     3266 non-null   int64 \n",
            " 6   y_min2     3266 non-null   int64 \n",
            " 7   x_max2     3266 non-null   int64 \n",
            " 8   y_max2     3266 non-null   int64 \n",
            "dtypes: int64(8), object(1)\n",
            "memory usage: 255.2+ KB\n",
            "None\n"
          ],
          "name": "stdout"
        }
      ]
    },
    {
      "cell_type": "code",
      "metadata": {
        "id": "jOSHYMWiN9Qq",
        "colab_type": "code",
        "colab": {
          "base_uri": "https://localhost:8080/",
          "height": 357
        },
        "outputId": "1ac62a4d-385e-427b-8980-2a61eadb68eb"
      },
      "source": [
        "# create df for entries with 3 bounding boxes\n",
        "df_3box = df_patients[df_patients.x_min4.isnull() & df_patients.x_min3.notnull() & df_patients.x_min3.notnull()]\n",
        "df_3box = df_3box.drop(['x_min4',\n",
        "       'y_min4', 'x_max4', 'y_max4'], axis=1)\n",
        "df_3box.loc[:, 'x_min1':] = df_3box.loc[:, 'x_min1':].astype(int)\n",
        "df_3box.info()"
      ],
      "execution_count": null,
      "outputs": [
        {
          "output_type": "stream",
          "text": [
            "<class 'pandas.core.frame.DataFrame'>\n",
            "Int64Index: 119 entries, 176 to 37425\n",
            "Data columns (total 13 columns):\n",
            " #   Column     Non-Null Count  Dtype \n",
            "---  ------     --------------  ----- \n",
            " 0   patientId  119 non-null    object\n",
            " 1   x_min1     119 non-null    int64 \n",
            " 2   y_min1     119 non-null    int64 \n",
            " 3   x_max1     119 non-null    int64 \n",
            " 4   y_max1     119 non-null    int64 \n",
            " 5   x_min2     119 non-null    int64 \n",
            " 6   y_min2     119 non-null    int64 \n",
            " 7   x_max2     119 non-null    int64 \n",
            " 8   y_max2     119 non-null    int64 \n",
            " 9   x_min3     119 non-null    int64 \n",
            " 10  y_min3     119 non-null    int64 \n",
            " 11  x_max3     119 non-null    int64 \n",
            " 12  y_max3     119 non-null    int64 \n",
            "dtypes: int64(12), object(1)\n",
            "memory usage: 13.0+ KB\n"
          ],
          "name": "stdout"
        }
      ]
    },
    {
      "cell_type": "code",
      "metadata": {
        "id": "_mjDg_CBNsuY",
        "colab_type": "code",
        "colab": {
          "base_uri": "https://localhost:8080/",
          "height": 547
        },
        "outputId": "d92767e4-b433-4cb0-9efd-efce83ea8289"
      },
      "source": [
        "# create df for entries with 3 bounding boxes\n",
        "df_4box = df_patients[df_patients.x_min4.notnull()]\n",
        "df_4box.loc[:, 'x_min1':] = df_4box.loc[:, 'x_min1':].astype(int)\n",
        "df_4box.info()"
      ],
      "execution_count": null,
      "outputs": [
        {
          "output_type": "stream",
          "text": [
            "<class 'pandas.core.frame.DataFrame'>\n",
            "Int64Index: 13 entries, 1119 to 36654\n",
            "Data columns (total 17 columns):\n",
            " #   Column     Non-Null Count  Dtype \n",
            "---  ------     --------------  ----- \n",
            " 0   patientId  13 non-null     object\n",
            " 1   x_min1     13 non-null     int64 \n",
            " 2   y_min1     13 non-null     int64 \n",
            " 3   x_max1     13 non-null     int64 \n",
            " 4   y_max1     13 non-null     int64 \n",
            " 5   x_min2     13 non-null     int64 \n",
            " 6   y_min2     13 non-null     int64 \n",
            " 7   x_max2     13 non-null     int64 \n",
            " 8   y_max2     13 non-null     int64 \n",
            " 9   x_min3     13 non-null     int64 \n",
            " 10  y_min3     13 non-null     int64 \n",
            " 11  x_max3     13 non-null     int64 \n",
            " 12  y_max3     13 non-null     int64 \n",
            " 13  x_min4     13 non-null     int64 \n",
            " 14  y_min4     13 non-null     int64 \n",
            " 15  x_max4     13 non-null     int64 \n",
            " 16  y_max4     13 non-null     int64 \n",
            "dtypes: int64(16), object(1)\n",
            "memory usage: 1.8+ KB\n"
          ],
          "name": "stdout"
        },
        {
          "output_type": "stream",
          "text": [
            "/usr/local/lib/python3.6/dist-packages/pandas/core/indexing.py:966: SettingWithCopyWarning: \n",
            "A value is trying to be set on a copy of a slice from a DataFrame.\n",
            "Try using .loc[row_indexer,col_indexer] = value instead\n",
            "\n",
            "See the caveats in the documentation: https://pandas.pydata.org/pandas-docs/stable/user_guide/indexing.html#returning-a-view-versus-a-copy\n",
            "  self.obj[item] = s\n"
          ],
          "name": "stderr"
        }
      ]
    },
    {
      "cell_type": "markdown",
      "metadata": {
        "id": "GOS2NX5qNLRu",
        "colab_type": "text"
      },
      "source": [
        "### Templates\n",
        "\n"
      ]
    },
    {
      "cell_type": "code",
      "metadata": {
        "id": "fKhqZ2SaOmCV",
        "colab_type": "code",
        "colab": {}
      },
      "source": [
        "template_1box = textwrap.dedent(\"\"\"\\\n",
        "<annotation>\n",
        "    <folder>VOC2007</folder>\n",
        "    <filename>{filename}.jpg</filename>\n",
        "    <source>\n",
        "        <database>The VOC2007 Database</database>\n",
        "        <annotation>PASCAL VOC2007</annotation>\n",
        "        <image>flickr</image>\n",
        "        <flickrid>336426776</flickrid>\n",
        "    </source>\n",
        "    <owner>\n",
        "        <flickrid>Elder Timothy Chaves</flickrid>\n",
        "        <name>Tim Chaves</name>\n",
        "    </owner>\n",
        "    <size>\n",
        "        <width>256</width>\n",
        "        <height>256</height>\n",
        "        <depth>1</depth>\n",
        "    </size>\n",
        "    <segmented>0</segmented>\n",
        "    <object>\n",
        "        <name>opacity</name>\n",
        "        <pose>unknown</pose>\n",
        "        <truncated>0</truncated>\n",
        "        <difficult>0</difficult>\n",
        "        <bndbox>\n",
        "            <xmin>{xmin1}</xmin>\n",
        "            <ymin>{ymin1}</ymin>\n",
        "            <xmax>{xmax1}</xmax>\n",
        "            <ymax>{ymax1}</ymax>\n",
        "        </bndbox>\n",
        "    </object>\n",
        "</annotation>\"\"\")"
      ],
      "execution_count": null,
      "outputs": []
    },
    {
      "cell_type": "code",
      "metadata": {
        "id": "7ROfU52iOpqD",
        "colab_type": "code",
        "colab": {}
      },
      "source": [
        "template_2box = textwrap.dedent(\"\"\"\\\n",
        "<annotation>\n",
        "    <folder>VOC2007</folder>\n",
        "    <filename>{filename}.jpg</filename>\n",
        "    <source>\n",
        "        <database>The VOC2007 Database</database>\n",
        "        <annotation>PASCAL VOC2007</annotation>\n",
        "        <image>flickr</image>\n",
        "        <flickrid>336426776</flickrid>\n",
        "    </source>\n",
        "    <owner>\n",
        "        <flickrid>Elder Timothy Chaves</flickrid>\n",
        "        <name>Tim Chaves</name>\n",
        "    </owner>\n",
        "    <size>\n",
        "        <width>256</width>\n",
        "        <height>256</height>\n",
        "        <depth>1</depth>\n",
        "    </size>\n",
        "    <segmented>0</segmented>\n",
        "    <object>\n",
        "        <name>opacity</name>\n",
        "        <pose>unknown</pose>\n",
        "        <truncated>0</truncated>\n",
        "        <difficult>0</difficult>\n",
        "        <bndbox>\n",
        "            <xmin>{xmin1}</xmin>\n",
        "            <ymin>{ymin1}</ymin>\n",
        "            <xmax>{xmax1}</xmax>\n",
        "            <ymax>{ymax1}</ymax>\n",
        "        </bndbox>\n",
        "    </object>\n",
        "    <object>\n",
        "        <name>opacity</name>\n",
        "        <pose>unknown</pose>\n",
        "        <truncated>0</truncated>\n",
        "        <difficult>0</difficult>\n",
        "        <bndbox>\n",
        "            <xmin>{xmin2}</xmin>\n",
        "            <ymin>{ymin2}</ymin>\n",
        "            <xmax>{xmax2}</xmax>\n",
        "            <ymax>{ymax2}</ymax>\n",
        "        </bndbox>\n",
        "    </object>\n",
        "</annotation>\"\"\")"
      ],
      "execution_count": null,
      "outputs": []
    },
    {
      "cell_type": "code",
      "metadata": {
        "id": "FyJTZ3x1O577",
        "colab_type": "code",
        "colab": {}
      },
      "source": [
        "template_3box = textwrap.dedent(\"\"\"\\\n",
        "<annotation>\n",
        "    <folder>VOC2007</folder>\n",
        "    <filename>{filename}.jpg</filename>\n",
        "    <source>\n",
        "        <database>The VOC2007 Database</database>\n",
        "        <annotation>PASCAL VOC2007</annotation>\n",
        "        <image>flickr</image>\n",
        "        <flickrid>336426776</flickrid>\n",
        "    </source>\n",
        "    <owner>\n",
        "        <flickrid>Elder Timothy Chaves</flickrid>\n",
        "        <name>Tim Chaves</name>\n",
        "    </owner>\n",
        "    <size>\n",
        "        <width>256</width>\n",
        "        <height>256</height>\n",
        "        <depth>1</depth>\n",
        "    </size>\n",
        "    <segmented>0</segmented>\n",
        "    <object>\n",
        "        <name>opacity</name>\n",
        "        <pose>unknown</pose>\n",
        "        <truncated>0</truncated>\n",
        "        <difficult>0</difficult>\n",
        "        <bndbox>\n",
        "            <xmin>{xmin1}</xmin>\n",
        "            <ymin>{ymin1}</ymin>\n",
        "            <xmax>{xmax1}</xmax>\n",
        "            <ymax>{ymax1}</ymax>\n",
        "        </bndbox>\n",
        "    </object>\n",
        "    <object>\n",
        "        <name>opacity</name>\n",
        "        <pose>unknown</pose>\n",
        "        <truncated>0</truncated>\n",
        "        <difficult>0</difficult>\n",
        "        <bndbox>\n",
        "            <xmin>{xmin2}</xmin>\n",
        "            <ymin>{ymin2}</ymin>\n",
        "            <xmax>{xmax2}</xmax>\n",
        "            <ymax>{ymax2}</ymax>\n",
        "        </bndbox>\n",
        "    </object>\n",
        "    <object>\n",
        "        <name>opacity</name>\n",
        "        <pose>unknown</pose>\n",
        "        <truncated>0</truncated>\n",
        "        <difficult>0</difficult>\n",
        "        <bndbox>\n",
        "            <xmin>{xmin3}</xmin>\n",
        "            <ymin>{ymin3}</ymin>\n",
        "            <xmax>{xmax3}</xmax>\n",
        "            <ymax>{ymax3}</ymax>\n",
        "        </bndbox>\n",
        "    </object>\n",
        "</annotation>\"\"\")"
      ],
      "execution_count": null,
      "outputs": []
    },
    {
      "cell_type": "code",
      "metadata": {
        "id": "v5sNT4B7O_Fg",
        "colab_type": "code",
        "colab": {}
      },
      "source": [
        "template_4box = textwrap.dedent(\"\"\"\\\n",
        "<annotation>\n",
        "    <folder>VOC2007</folder>\n",
        "    <filename>{filename}.jpg</filename>\n",
        "    <source>\n",
        "        <database>The VOC2007 Database</database>\n",
        "        <annotation>PASCAL VOC2007</annotation>\n",
        "        <image>flickr</image>\n",
        "        <flickrid>336426776</flickrid>\n",
        "    </source>\n",
        "    <owner>\n",
        "        <flickrid>Elder Timothy Chaves</flickrid>\n",
        "        <name>Tim Chaves</name>\n",
        "    </owner>\n",
        "    <size>\n",
        "        <width>256</width>\n",
        "        <height>256</height>\n",
        "        <depth>1</depth>\n",
        "    </size>\n",
        "    <segmented>0</segmented>\n",
        "    <object>\n",
        "        <name>opacity</name>\n",
        "        <pose>unknown</pose>\n",
        "        <truncated>0</truncated>\n",
        "        <difficult>0</difficult>\n",
        "        <bndbox>\n",
        "            <xmin>{xmin1}</xmin>\n",
        "            <ymin>{ymin1}</ymin>\n",
        "            <xmax>{xmax1}</xmax>\n",
        "            <ymax>{ymax1}</ymax>\n",
        "        </bndbox>\n",
        "    </object>\n",
        "    <object>\n",
        "        <name>opacity</name>\n",
        "        <pose>unknown</pose>\n",
        "        <truncated>0</truncated>\n",
        "        <difficult>0</difficult>\n",
        "        <bndbox>\n",
        "            <xmin>{xmin2}</xmin>\n",
        "            <ymin>{ymin2}</ymin>\n",
        "            <xmax>{xmax2}</xmax>\n",
        "            <ymax>{ymax2}</ymax>\n",
        "        </bndbox>\n",
        "    </object>\n",
        "    <object>\n",
        "        <name>opacity</name>\n",
        "        <pose>unknown</pose>\n",
        "        <truncated>0</truncated>\n",
        "        <difficult>0</difficult>\n",
        "        <bndbox>\n",
        "            <xmin>{xmin3}</xmin>\n",
        "            <ymin>{ymin3}</ymin>\n",
        "            <xmax>{xmax3}</xmax>\n",
        "            <ymax>{ymax3}</ymax>\n",
        "        </bndbox>\n",
        "    </object>\n",
        "    <object>\n",
        "        <name>opacity</name>\n",
        "        <pose>unknown</pose>\n",
        "        <truncated>0</truncated>\n",
        "        <difficult>0</difficult>\n",
        "        <bndbox>\n",
        "            <xmin>{xmin4}</xmin>\n",
        "            <ymin>{ymin4}</ymin>\n",
        "            <xmax>{xmax4}</xmax>\n",
        "            <ymax>{ymax4}</ymax>\n",
        "        </bndbox>\n",
        "    </object>\n",
        "</annotation>\"\"\")"
      ],
      "execution_count": null,
      "outputs": []
    },
    {
      "cell_type": "markdown",
      "metadata": {
        "id": "gnMqOdobNG4F",
        "colab_type": "text"
      },
      "source": [
        "Diccionarios con la información de los dataframes"
      ]
    },
    {
      "cell_type": "code",
      "metadata": {
        "id": "1WSlxaYQPWBO",
        "colab_type": "code",
        "colab": {}
      },
      "source": [
        "list_dict_1box = []\n",
        "\n",
        "for index, row in df_1box.iterrows():\n",
        "    dict = {\n",
        "    'filename': row['patientId'],\n",
        "    'xmin1': str(row['x_min1']),\n",
        "    'ymin1': str(row['y_min1']),\n",
        "    'xmax1': str(row['x_max1']),\n",
        "    'ymax1': str(row['y_max1']),\n",
        "    }\n",
        "    list_dict_1box.append(dict)"
      ],
      "execution_count": null,
      "outputs": []
    },
    {
      "cell_type": "code",
      "metadata": {
        "id": "iXMraTNIPjQV",
        "colab_type": "code",
        "colab": {}
      },
      "source": [
        "list_dict_2box = []\n",
        "\n",
        "for index, row in df_2box.iterrows():\n",
        "    dict = {\n",
        "    'filename': row['patientId'],\n",
        "    'xmin1': str(row['x_min1']),\n",
        "    'ymin1': str(row['y_min1']),\n",
        "    'xmax1': str(row['x_max1']),\n",
        "    'ymax1': str(row['y_max1']),\n",
        "    'xmin2': str(row['x_min2']),\n",
        "    'ymin2': str(row['y_min2']),\n",
        "    'xmax2': str(row['x_max2']),\n",
        "    'ymax2': str(row['y_max2']),\n",
        "    }\n",
        "    list_dict_2box.append(dict)"
      ],
      "execution_count": null,
      "outputs": []
    },
    {
      "cell_type": "code",
      "metadata": {
        "id": "ur9UyYi5Pl6P",
        "colab_type": "code",
        "colab": {}
      },
      "source": [
        "list_dict_3box = []\n",
        "\n",
        "for index, row in df_3box.iterrows():\n",
        "    dict = {\n",
        "    'filename': row['patientId'],\n",
        "    'xmin1': str(row['x_min1']),\n",
        "    'ymin1': str(row['y_min1']),\n",
        "    'xmax1': str(row['x_max1']),\n",
        "    'ymax1': str(row['y_max1']),\n",
        "    'xmin2': str(row['x_min2']),\n",
        "    'ymin2': str(row['y_min2']),\n",
        "    'xmax2': str(row['x_max2']),\n",
        "    'ymax2': str(row['y_max2']),\n",
        "    'xmin3': str(row['x_min3']),\n",
        "    'ymin3': str(row['y_min3']),\n",
        "    'xmax3': str(row['x_max3']),\n",
        "    'ymax3': str(row['y_max3']),\n",
        "    }\n",
        "    list_dict_3box.append(dict)"
      ],
      "execution_count": null,
      "outputs": []
    },
    {
      "cell_type": "code",
      "metadata": {
        "id": "4cTMTFS6PpoN",
        "colab_type": "code",
        "colab": {}
      },
      "source": [
        "list_dict_4box = []\n",
        "\n",
        "for index, row in df_4box.iterrows():\n",
        "    dict = {\n",
        "    'filename': row['patientId'],\n",
        "    'xmin1': str(row['x_min1']),\n",
        "    'ymin1': str(row['y_min1']),\n",
        "    'xmax1': str(row['x_max1']),\n",
        "    'ymax1': str(row['y_max1']),\n",
        "    'xmin2': str(row['x_min2']),\n",
        "    'ymin2': str(row['y_min2']),\n",
        "    'xmax2': str(row['x_max2']),\n",
        "    'ymax2': str(row['y_max2']),\n",
        "    'xmin3': str(row['x_min3']),\n",
        "    'ymin3': str(row['y_min3']),\n",
        "    'xmax3': str(row['x_max3']),\n",
        "    'ymax3': str(row['y_max3']),\n",
        "    'xmin4': str(row['x_min4']),\n",
        "    'ymin4': str(row['y_min4']),\n",
        "    'xmax4': str(row['x_max4']),\n",
        "    'ymax4': str(row['y_max4']),\n",
        "    }\n",
        "    list_dict_4box.append(dict)"
      ],
      "execution_count": null,
      "outputs": []
    },
    {
      "cell_type": "code",
      "metadata": {
        "id": "fyVUGm0qP4vr",
        "colab_type": "code",
        "colab": {
          "base_uri": "https://localhost:8080/",
          "height": 105
        },
        "outputId": "8480c6cd-85ab-4565-a952-0566cacea6c0"
      },
      "source": [
        "print(list_dict_1box[0])\n",
        "print(list_dict_2box[0])\n",
        "print(list_dict_3box[0])\n",
        "print(list_dict_4box[0])"
      ],
      "execution_count": null,
      "outputs": [
        {
          "output_type": "stream",
          "text": [
            "{'filename': '0100515c-5204-4f31-98e0-f35e4b00004a', 'xmin1': '703.0', 'ymin1': '416.0', 'xmax1': '787.0', 'ymax1': '493.0'}\n",
            "{'filename': '00436515-870c-4b36-a041-de91049b9ab4', 'xmin1': '264', 'ymin1': '152', 'xmax1': '477', 'ymax1': '531', 'xmin2': '562', 'ymin2': '152', 'xmax2': '818', 'ymax2': '605'}\n",
            "{'filename': '03a9498c-549d-4e7d-800b-e74797f7f625', 'xmin1': '195', 'ymin1': '511', 'xmax1': '413', 'ymax1': '782', 'xmin2': '612', 'ymin2': '214', 'xmax2': '721', 'ymax2': '303', 'xmin3': '610', 'ymin3': '599', 'xmax3': '875', 'ymax3': '844'}\n",
            "{'filename': '0ab261f9-4eb5-42ab-a9a5-e918904d6356', 'xmin1': '613', 'ymin1': '352', 'xmax1': '719', 'ymax1': '454', 'xmin2': '266', 'ymin2': '644', 'xmax2': '401', 'ymax2': '790', 'xmin3': '545', 'ymin3': '452', 'xmax3': '760', 'ymax3': '577', 'xmin4': '722', 'ymin4': '558', 'xmax4': '810', 'ymax4': '646'}\n"
          ],
          "name": "stdout"
        }
      ]
    },
    {
      "cell_type": "code",
      "metadata": {
        "id": "kDs0k1b3P-mg",
        "colab_type": "code",
        "colab": {
          "base_uri": "https://localhost:8080/",
          "height": 85
        },
        "outputId": "7acdffd3-69a2-4050-df38-d0abb915c02c"
      },
      "source": [
        "print(len(list_dict_1box))\n",
        "print(len(list_dict_2box))\n",
        "print(len(list_dict_3box))\n",
        "print(len(list_dict_4box))"
      ],
      "execution_count": null,
      "outputs": [
        {
          "output_type": "stream",
          "text": [
            "2614\n",
            "3266\n",
            "119\n",
            "13\n"
          ],
          "name": "stdout"
        }
      ]
    },
    {
      "cell_type": "markdown",
      "metadata": {
        "id": "vhqFVGpKQNaR",
        "colab_type": "text"
      },
      "source": [
        "### XML generator\n",
        "Estos códigos arman los archivos de anotaciones utilizando los diccionarios inicializados anteriormente en los templates que corresponden."
      ]
    },
    {
      "cell_type": "code",
      "metadata": {
        "id": "mGnfE5eZQGgN",
        "colab_type": "code",
        "colab": {}
      },
      "source": [
        "# output all 1-box .xml files\n",
        "for i in list_dict_1box:\n",
        "    escaped = {k: escape(v) for k, v in i.items()}\n",
        "    data = template_1box.format(**escaped)\n",
        "    open(\"{}.xml\".format(i['filename']), \"w\").write(data)"
      ],
      "execution_count": null,
      "outputs": []
    },
    {
      "cell_type": "code",
      "metadata": {
        "id": "UxWhnVl6QW4X",
        "colab_type": "code",
        "colab": {}
      },
      "source": [
        "# output all 2-box .xml files\n",
        "for i in list_dict_2box:\n",
        "    escaped = {k: escape(v) for k, v in i.items()}\n",
        "    data = template_2box.format(**escaped)\n",
        "    open(\"{}.xml\".format(i['filename']), \"w\").write(data)"
      ],
      "execution_count": null,
      "outputs": []
    },
    {
      "cell_type": "code",
      "metadata": {
        "id": "D2KQKkKEQazo",
        "colab_type": "code",
        "colab": {}
      },
      "source": [
        "# output all 3-box .xml files\n",
        "for i in list_dict_3box:\n",
        "    escaped = {k: escape(v) for k, v in i.items()}\n",
        "    data = template_3box.format(**escaped)\n",
        "    open(\"{}.xml\".format(i['filename']), \"w\").write(data)"
      ],
      "execution_count": null,
      "outputs": []
    },
    {
      "cell_type": "code",
      "metadata": {
        "id": "LOi0OZ2FQemH",
        "colab_type": "code",
        "colab": {}
      },
      "source": [
        "# output all 4-box .xml files\n",
        "for i in list_dict_4box:\n",
        "    escaped = {k: escape(v) for k, v in i.items()}\n",
        "    data = template_3box.format(**escaped)\n",
        "    open(\"{}.xml\".format(i['filename']), \"w\").write(data)"
      ],
      "execution_count": null,
      "outputs": []
    },
    {
      "cell_type": "code",
      "metadata": {
        "id": "HGjrNZqUQgmh",
        "colab_type": "code",
        "colab": {}
      },
      "source": [
        "#Move content from colab project location to google drive indicated folder\n",
        "#The content is moved as a folder\n",
        "!mv /content/RN__TP_Final '/content/drive/My Drive/Final_redes/annotations'"
      ],
      "execution_count": null,
      "outputs": []
    },
    {
      "cell_type": "markdown",
      "metadata": {
        "id": "Qt2ct1ptaSo4",
        "colab_type": "text"
      },
      "source": [
        "# Build train, validation and test files (.txt)\n",
        "\n",
        "Estos archivos son necesarios para la implementación de Darknet. Se preparan en un .txt un archivo con las direcciones de todas las imagenes de train, validation y test."
      ]
    },
    {
      "cell_type": "code",
      "metadata": {
        "id": "QJj8liz6kLzK",
        "colab_type": "code",
        "colab": {
          "base_uri": "https://localhost:8080/",
          "height": 255
        },
        "outputId": "132339de-4d1e-4eed-f484-1a9a163f7033"
      },
      "source": [
        "df.info()"
      ],
      "execution_count": null,
      "outputs": [
        {
          "output_type": "stream",
          "text": [
            "<class 'pandas.core.frame.DataFrame'>\n",
            "Int64Index: 30227 entries, 0 to 37626\n",
            "Data columns (total 7 columns):\n",
            " #   Column     Non-Null Count  Dtype  \n",
            "---  ------     --------------  -----  \n",
            " 0   patientId  30227 non-null  object \n",
            " 1   class      30227 non-null  object \n",
            " 2   x          9555 non-null   float64\n",
            " 3   y          9555 non-null   float64\n",
            " 4   width      9555 non-null   float64\n",
            " 5   height     9555 non-null   float64\n",
            " 6   Target     30227 non-null  int64  \n",
            "dtypes: float64(4), int64(1), object(2)\n",
            "memory usage: 1.8+ MB\n"
          ],
          "name": "stdout"
        }
      ]
    },
    {
      "cell_type": "markdown",
      "metadata": {
        "id": "7eg99n7-Nb_r",
        "colab_type": "text"
      },
      "source": [
        "Para el armado de los archivos con las direcciones a las imágenes, se conserva el patientId porque es el nombre del archivo y el Target porque será necesario para realizar el split estratificado."
      ]
    },
    {
      "cell_type": "code",
      "metadata": {
        "id": "NCUgFOJFRLqy",
        "colab_type": "code",
        "colab": {
          "base_uri": "https://localhost:8080/",
          "height": 979
        },
        "outputId": "5f0f45eb-e798-461c-bf4a-4193582c920f"
      },
      "source": [
        "df_per_patient = df[['patientId','Target']].copy()\n",
        "df_per_patient = df_per_patient.drop_duplicates()\n",
        "df_per_patient.head(30)"
      ],
      "execution_count": 8,
      "outputs": [
        {
          "output_type": "execute_result",
          "data": {
            "text/html": [
              "<div>\n",
              "<style scoped>\n",
              "    .dataframe tbody tr th:only-of-type {\n",
              "        vertical-align: middle;\n",
              "    }\n",
              "\n",
              "    .dataframe tbody tr th {\n",
              "        vertical-align: top;\n",
              "    }\n",
              "\n",
              "    .dataframe thead th {\n",
              "        text-align: right;\n",
              "    }\n",
              "</style>\n",
              "<table border=\"1\" class=\"dataframe\">\n",
              "  <thead>\n",
              "    <tr style=\"text-align: right;\">\n",
              "      <th></th>\n",
              "      <th>patientId</th>\n",
              "      <th>Target</th>\n",
              "    </tr>\n",
              "  </thead>\n",
              "  <tbody>\n",
              "    <tr>\n",
              "      <th>0</th>\n",
              "      <td>0004cfab-14fd-4e49-80ba-63a80b6bddd6</td>\n",
              "      <td>0</td>\n",
              "    </tr>\n",
              "    <tr>\n",
              "      <th>1</th>\n",
              "      <td>00313ee0-9eaa-42f4-b0ab-c148ed3241cd</td>\n",
              "      <td>0</td>\n",
              "    </tr>\n",
              "    <tr>\n",
              "      <th>2</th>\n",
              "      <td>00322d4d-1c29-4943-afc9-b6754be640eb</td>\n",
              "      <td>0</td>\n",
              "    </tr>\n",
              "    <tr>\n",
              "      <th>3</th>\n",
              "      <td>003d8fa0-6bf1-40ed-b54c-ac657f8495c5</td>\n",
              "      <td>0</td>\n",
              "    </tr>\n",
              "    <tr>\n",
              "      <th>4</th>\n",
              "      <td>00436515-870c-4b36-a041-de91049b9ab4</td>\n",
              "      <td>1</td>\n",
              "    </tr>\n",
              "    <tr>\n",
              "      <th>8</th>\n",
              "      <td>00569f44-917d-4c86-a842-81832af98c30</td>\n",
              "      <td>0</td>\n",
              "    </tr>\n",
              "    <tr>\n",
              "      <th>9</th>\n",
              "      <td>006cec2e-6ce2-4549-bffa-eadfcd1e9970</td>\n",
              "      <td>0</td>\n",
              "    </tr>\n",
              "    <tr>\n",
              "      <th>10</th>\n",
              "      <td>00704310-78a8-4b38-8475-49f4573b2dbb</td>\n",
              "      <td>1</td>\n",
              "    </tr>\n",
              "    <tr>\n",
              "      <th>14</th>\n",
              "      <td>008c19e8-a820-403a-930a-bc74a4053664</td>\n",
              "      <td>0</td>\n",
              "    </tr>\n",
              "    <tr>\n",
              "      <th>15</th>\n",
              "      <td>009482dc-3db5-48d4-8580-5c89c4f01334</td>\n",
              "      <td>0</td>\n",
              "    </tr>\n",
              "    <tr>\n",
              "      <th>16</th>\n",
              "      <td>009eb222-eabc-4150-8121-d5a6d06b8ebf</td>\n",
              "      <td>0</td>\n",
              "    </tr>\n",
              "    <tr>\n",
              "      <th>17</th>\n",
              "      <td>00a85be6-6eb0-421d-8acf-ff2dc0007e8a</td>\n",
              "      <td>0</td>\n",
              "    </tr>\n",
              "    <tr>\n",
              "      <th>18</th>\n",
              "      <td>00aecb01-a116-45a2-956c-08d2fa55433f</td>\n",
              "      <td>1</td>\n",
              "    </tr>\n",
              "    <tr>\n",
              "      <th>22</th>\n",
              "      <td>00c0b293-48e7-4e16-ac76-9269ba535a62</td>\n",
              "      <td>1</td>\n",
              "    </tr>\n",
              "    <tr>\n",
              "      <th>26</th>\n",
              "      <td>00d7c36e-3cdf-4df6-ac03-6c30cdc8e85b</td>\n",
              "      <td>0</td>\n",
              "    </tr>\n",
              "    <tr>\n",
              "      <th>27</th>\n",
              "      <td>00f08de1-517e-4652-a04f-d1dc9ee48593</td>\n",
              "      <td>1</td>\n",
              "    </tr>\n",
              "    <tr>\n",
              "      <th>31</th>\n",
              "      <td>00f87de5-5fe0-4921-93ea-914d7e683266</td>\n",
              "      <td>0</td>\n",
              "    </tr>\n",
              "    <tr>\n",
              "      <th>32</th>\n",
              "      <td>0100515c-5204-4f31-98e0-f35e4b00004a</td>\n",
              "      <td>1</td>\n",
              "    </tr>\n",
              "    <tr>\n",
              "      <th>33</th>\n",
              "      <td>01027bc3-dc40-4165-a6c3-d6be2cb7ca34</td>\n",
              "      <td>0</td>\n",
              "    </tr>\n",
              "    <tr>\n",
              "      <th>34</th>\n",
              "      <td>010ccb9f-6d46-4380-af11-84f87397a1b8</td>\n",
              "      <td>1</td>\n",
              "    </tr>\n",
              "    <tr>\n",
              "      <th>38</th>\n",
              "      <td>011d6f51-b732-4d45-a84d-90477325ef2d</td>\n",
              "      <td>0</td>\n",
              "    </tr>\n",
              "    <tr>\n",
              "      <th>39</th>\n",
              "      <td>012a5620-d082-4bb8-9b3b-e72d8938000c</td>\n",
              "      <td>1</td>\n",
              "    </tr>\n",
              "    <tr>\n",
              "      <th>43</th>\n",
              "      <td>014b7b58-f641-4477-8bbc-ae6f337745d6</td>\n",
              "      <td>0</td>\n",
              "    </tr>\n",
              "    <tr>\n",
              "      <th>44</th>\n",
              "      <td>01538c3b-3de9-4fbb-95a8-732235821bbf</td>\n",
              "      <td>0</td>\n",
              "    </tr>\n",
              "    <tr>\n",
              "      <th>45</th>\n",
              "      <td>016b1f90-bb9a-4d3a-9c38-74af5fffd5b5</td>\n",
              "      <td>0</td>\n",
              "    </tr>\n",
              "    <tr>\n",
              "      <th>46</th>\n",
              "      <td>0174c4bb-28f5-41e3-a13f-a396badc18bd</td>\n",
              "      <td>1</td>\n",
              "    </tr>\n",
              "    <tr>\n",
              "      <th>50</th>\n",
              "      <td>017c7b5b-618e-4bc9-943c-04c6a988d992</td>\n",
              "      <td>0</td>\n",
              "    </tr>\n",
              "    <tr>\n",
              "      <th>51</th>\n",
              "      <td>019ca122-9cdf-4704-b7a9-449c8a1c263e</td>\n",
              "      <td>0</td>\n",
              "    </tr>\n",
              "    <tr>\n",
              "      <th>52</th>\n",
              "      <td>019d950b-dd38-4cf3-a686-527a75728be6</td>\n",
              "      <td>1</td>\n",
              "    </tr>\n",
              "    <tr>\n",
              "      <th>56</th>\n",
              "      <td>019e035e-2f82-4c66-a198-57422a27925f</td>\n",
              "      <td>0</td>\n",
              "    </tr>\n",
              "  </tbody>\n",
              "</table>\n",
              "</div>"
            ],
            "text/plain": [
              "                               patientId  Target\n",
              "0   0004cfab-14fd-4e49-80ba-63a80b6bddd6       0\n",
              "1   00313ee0-9eaa-42f4-b0ab-c148ed3241cd       0\n",
              "2   00322d4d-1c29-4943-afc9-b6754be640eb       0\n",
              "3   003d8fa0-6bf1-40ed-b54c-ac657f8495c5       0\n",
              "4   00436515-870c-4b36-a041-de91049b9ab4       1\n",
              "8   00569f44-917d-4c86-a842-81832af98c30       0\n",
              "9   006cec2e-6ce2-4549-bffa-eadfcd1e9970       0\n",
              "10  00704310-78a8-4b38-8475-49f4573b2dbb       1\n",
              "14  008c19e8-a820-403a-930a-bc74a4053664       0\n",
              "15  009482dc-3db5-48d4-8580-5c89c4f01334       0\n",
              "16  009eb222-eabc-4150-8121-d5a6d06b8ebf       0\n",
              "17  00a85be6-6eb0-421d-8acf-ff2dc0007e8a       0\n",
              "18  00aecb01-a116-45a2-956c-08d2fa55433f       1\n",
              "22  00c0b293-48e7-4e16-ac76-9269ba535a62       1\n",
              "26  00d7c36e-3cdf-4df6-ac03-6c30cdc8e85b       0\n",
              "27  00f08de1-517e-4652-a04f-d1dc9ee48593       1\n",
              "31  00f87de5-5fe0-4921-93ea-914d7e683266       0\n",
              "32  0100515c-5204-4f31-98e0-f35e4b00004a       1\n",
              "33  01027bc3-dc40-4165-a6c3-d6be2cb7ca34       0\n",
              "34  010ccb9f-6d46-4380-af11-84f87397a1b8       1\n",
              "38  011d6f51-b732-4d45-a84d-90477325ef2d       0\n",
              "39  012a5620-d082-4bb8-9b3b-e72d8938000c       1\n",
              "43  014b7b58-f641-4477-8bbc-ae6f337745d6       0\n",
              "44  01538c3b-3de9-4fbb-95a8-732235821bbf       0\n",
              "45  016b1f90-bb9a-4d3a-9c38-74af5fffd5b5       0\n",
              "46  0174c4bb-28f5-41e3-a13f-a396badc18bd       1\n",
              "50  017c7b5b-618e-4bc9-943c-04c6a988d992       0\n",
              "51  019ca122-9cdf-4704-b7a9-449c8a1c263e       0\n",
              "52  019d950b-dd38-4cf3-a686-527a75728be6       1\n",
              "56  019e035e-2f82-4c66-a198-57422a27925f       0"
            ]
          },
          "metadata": {
            "tags": []
          },
          "execution_count": 8
        }
      ]
    },
    {
      "cell_type": "markdown",
      "metadata": {
        "id": "cQemzOaLNqK_",
        "colab_type": "text"
      },
      "source": [
        "Se agrega una columna con la dirección de la carpeta de Drive que contiene las imágenes. Este código fue reutilizado en múltiples ocasiones para el armado de los archivos de esta naturaleza porque habían múltiples copias de los datasets con pequeñas variaciones."
      ]
    },
    {
      "cell_type": "code",
      "metadata": {
        "id": "I7J7ZHR0ouS8",
        "colab_type": "code",
        "colab": {
          "base_uri": "https://localhost:8080/",
          "height": 204
        },
        "outputId": "3838fb9d-9c8e-49ee-8457-cb5f87fd7cf6"
      },
      "source": [
        "df_per_patient['path'] = '/content/drive/My Drive/Final_redes/Notebooks/DarkNet-kriyeng/data/obj/'+df_per_patient['patientId']+'.jpg'\n",
        "df_per_patient.head()"
      ],
      "execution_count": null,
      "outputs": [
        {
          "output_type": "execute_result",
          "data": {
            "text/html": [
              "<div>\n",
              "<style scoped>\n",
              "    .dataframe tbody tr th:only-of-type {\n",
              "        vertical-align: middle;\n",
              "    }\n",
              "\n",
              "    .dataframe tbody tr th {\n",
              "        vertical-align: top;\n",
              "    }\n",
              "\n",
              "    .dataframe thead th {\n",
              "        text-align: right;\n",
              "    }\n",
              "</style>\n",
              "<table border=\"1\" class=\"dataframe\">\n",
              "  <thead>\n",
              "    <tr style=\"text-align: right;\">\n",
              "      <th></th>\n",
              "      <th>patientId</th>\n",
              "      <th>Target</th>\n",
              "      <th>path</th>\n",
              "    </tr>\n",
              "  </thead>\n",
              "  <tbody>\n",
              "    <tr>\n",
              "      <th>0</th>\n",
              "      <td>0004cfab-14fd-4e49-80ba-63a80b6bddd6</td>\n",
              "      <td>0</td>\n",
              "      <td>/content/drive/My Drive/Final_redes/Notebooks/...</td>\n",
              "    </tr>\n",
              "    <tr>\n",
              "      <th>1</th>\n",
              "      <td>00313ee0-9eaa-42f4-b0ab-c148ed3241cd</td>\n",
              "      <td>0</td>\n",
              "      <td>/content/drive/My Drive/Final_redes/Notebooks/...</td>\n",
              "    </tr>\n",
              "    <tr>\n",
              "      <th>2</th>\n",
              "      <td>00322d4d-1c29-4943-afc9-b6754be640eb</td>\n",
              "      <td>0</td>\n",
              "      <td>/content/drive/My Drive/Final_redes/Notebooks/...</td>\n",
              "    </tr>\n",
              "    <tr>\n",
              "      <th>3</th>\n",
              "      <td>003d8fa0-6bf1-40ed-b54c-ac657f8495c5</td>\n",
              "      <td>0</td>\n",
              "      <td>/content/drive/My Drive/Final_redes/Notebooks/...</td>\n",
              "    </tr>\n",
              "    <tr>\n",
              "      <th>4</th>\n",
              "      <td>00436515-870c-4b36-a041-de91049b9ab4</td>\n",
              "      <td>1</td>\n",
              "      <td>/content/drive/My Drive/Final_redes/Notebooks/...</td>\n",
              "    </tr>\n",
              "  </tbody>\n",
              "</table>\n",
              "</div>"
            ],
            "text/plain": [
              "                              patientId  ...                                               path\n",
              "0  0004cfab-14fd-4e49-80ba-63a80b6bddd6  ...  /content/drive/My Drive/Final_redes/Notebooks/...\n",
              "1  00313ee0-9eaa-42f4-b0ab-c148ed3241cd  ...  /content/drive/My Drive/Final_redes/Notebooks/...\n",
              "2  00322d4d-1c29-4943-afc9-b6754be640eb  ...  /content/drive/My Drive/Final_redes/Notebooks/...\n",
              "3  003d8fa0-6bf1-40ed-b54c-ac657f8495c5  ...  /content/drive/My Drive/Final_redes/Notebooks/...\n",
              "4  00436515-870c-4b36-a041-de91049b9ab4  ...  /content/drive/My Drive/Final_redes/Notebooks/...\n",
              "\n",
              "[5 rows x 3 columns]"
            ]
          },
          "metadata": {
            "tags": []
          },
          "execution_count": 11
        }
      ]
    },
    {
      "cell_type": "markdown",
      "metadata": {
        "id": "tv-dAEz4N5j7",
        "colab_type": "text"
      },
      "source": [
        "Separación en validation y train. Esto era suficiente antes de que descubramos que no podíamos utilizar Kaggle para la etapa de testeo."
      ]
    },
    {
      "cell_type": "code",
      "metadata": {
        "id": "oC4ddwEd0t7W",
        "colab_type": "code",
        "colab": {
          "base_uri": "https://localhost:8080/",
          "height": 35
        },
        "outputId": "38342ff7-7dab-47fb-ddc2-f3c09b9bfad8"
      },
      "source": [
        "from sklearn.model_selection import train_test_split\n",
        "\n",
        "df_train, df_validation = train_test_split(df_per_patient, test_size=0.15, stratify=df_per_patient['Target'])\n",
        "\n",
        "print('The size of the train subset is',len(df_train),'and the size of the validation subset is',len(df_validation))"
      ],
      "execution_count": null,
      "outputs": [
        {
          "output_type": "stream",
          "text": [
            "The size of the train subset is 22681 and the size of the validation subset is 4003\n"
          ],
          "name": "stdout"
        }
      ]
    },
    {
      "cell_type": "markdown",
      "metadata": {
        "id": "8X1ifSWzOQ6m",
        "colab_type": "text"
      },
      "source": [
        "Se crean y guardan los archivos."
      ]
    },
    {
      "cell_type": "code",
      "metadata": {
        "id": "amJzm6z9luTs",
        "colab_type": "code",
        "colab": {}
      },
      "source": [
        "np.savetxt('train.txt', df_train.path, fmt='%s')\n",
        "np.savetxt('validation.txt', df_validation.path, fmt='%s')"
      ],
      "execution_count": null,
      "outputs": []
    },
    {
      "cell_type": "markdown",
      "metadata": {
        "id": "R-YswIa6xaa3",
        "colab_type": "text"
      },
      "source": [
        "## Split validation"
      ]
    },
    {
      "cell_type": "markdown",
      "metadata": {
        "id": "iNKirgGZ8nkP",
        "colab_type": "text"
      },
      "source": [
        "Este es el mayor cambio que tuvimos en el final. Al comienzo, nuestro objetivo era utilizar el subset de test directamente proveniente de la competencia. Sin embargo, por la problemática que tuvimos mencionada en la notebook Darknet1024_Run_NN, decidimos obtener un subset de test a partir del subset de validation. De esta manera, se realizó un nuevo entrenamiento desde cero dividiendo el dataset en train, validation y test. Es importante aclarar que la división se hace de manera estratificada con las clases corresponidentes al problema.\n",
        "\n",
        "Dado que no queríamos comprometer el entrenamiento, dividimos el set de validation en dos en lugar de volver a dividir desde cero. "
      ]
    },
    {
      "cell_type": "code",
      "metadata": {
        "id": "YoiIa1j8wFcS",
        "colab_type": "code",
        "colab": {}
      },
      "source": [
        "validation_txt_dir = '/content/drive/My Drive/Final_redes/Notebooks/DarkNet-kriyeng/data/validation.txt'\n",
        "with open(validation_txt_dir, \"r\") as f:\n",
        "  validation_txt = f.read()\n",
        "\n",
        "validation_txt = validation_txt.split('\\n')\n"
      ],
      "execution_count": 9,
      "outputs": []
    },
    {
      "cell_type": "markdown",
      "metadata": {
        "id": "MKXLIUj_OhSt",
        "colab_type": "text"
      },
      "source": [
        "Se recrea el dataframe de pandas de validation con el archivo de direcciones. Para eso, se había agregado previamente la columna de path al *df_per_patient* y se lo filtró, conservando únicamente aquellos registros cuyo path estaba en el archivo validation.txt"
      ]
    },
    {
      "cell_type": "code",
      "metadata": {
        "id": "e67nR7oI1p0X",
        "colab_type": "code",
        "colab": {
          "base_uri": "https://localhost:8080/",
          "height": 419
        },
        "outputId": "67f0088d-806c-41be-916c-b8dc4e78d726"
      },
      "source": [
        "df_validation = df_per_patient[df_per_patient['path'].isin(validation_txt)]\n",
        "df_validation"
      ],
      "execution_count": null,
      "outputs": [
        {
          "output_type": "execute_result",
          "data": {
            "text/html": [
              "<div>\n",
              "<style scoped>\n",
              "    .dataframe tbody tr th:only-of-type {\n",
              "        vertical-align: middle;\n",
              "    }\n",
              "\n",
              "    .dataframe tbody tr th {\n",
              "        vertical-align: top;\n",
              "    }\n",
              "\n",
              "    .dataframe thead th {\n",
              "        text-align: right;\n",
              "    }\n",
              "</style>\n",
              "<table border=\"1\" class=\"dataframe\">\n",
              "  <thead>\n",
              "    <tr style=\"text-align: right;\">\n",
              "      <th></th>\n",
              "      <th>patientId</th>\n",
              "      <th>Target</th>\n",
              "      <th>path</th>\n",
              "    </tr>\n",
              "  </thead>\n",
              "  <tbody>\n",
              "    <tr>\n",
              "      <th>4</th>\n",
              "      <td>00436515-870c-4b36-a041-de91049b9ab4</td>\n",
              "      <td>1</td>\n",
              "      <td>/content/drive/My Drive/Final_redes/Notebooks/...</td>\n",
              "    </tr>\n",
              "    <tr>\n",
              "      <th>15</th>\n",
              "      <td>009482dc-3db5-48d4-8580-5c89c4f01334</td>\n",
              "      <td>0</td>\n",
              "      <td>/content/drive/My Drive/Final_redes/Notebooks/...</td>\n",
              "    </tr>\n",
              "    <tr>\n",
              "      <th>43</th>\n",
              "      <td>014b7b58-f641-4477-8bbc-ae6f337745d6</td>\n",
              "      <td>0</td>\n",
              "      <td>/content/drive/My Drive/Final_redes/Notebooks/...</td>\n",
              "    </tr>\n",
              "    <tr>\n",
              "      <th>50</th>\n",
              "      <td>017c7b5b-618e-4bc9-943c-04c6a988d992</td>\n",
              "      <td>0</td>\n",
              "      <td>/content/drive/My Drive/Final_redes/Notebooks/...</td>\n",
              "    </tr>\n",
              "    <tr>\n",
              "      <th>57</th>\n",
              "      <td>01a4059c-22f7-4f51-8a27-50aff0b3aeb3</td>\n",
              "      <td>0</td>\n",
              "      <td>/content/drive/My Drive/Final_redes/Notebooks/...</td>\n",
              "    </tr>\n",
              "    <tr>\n",
              "      <th>...</th>\n",
              "      <td>...</td>\n",
              "      <td>...</td>\n",
              "      <td>...</td>\n",
              "    </tr>\n",
              "    <tr>\n",
              "      <th>37559</th>\n",
              "      <td>c0dd2290-7dc1-4589-8061-57dfdfa23a4c</td>\n",
              "      <td>0</td>\n",
              "      <td>/content/drive/My Drive/Final_redes/Notebooks/...</td>\n",
              "    </tr>\n",
              "    <tr>\n",
              "      <th>37582</th>\n",
              "      <td>c1273696-fdec-48a9-988c-74e57b6323fa</td>\n",
              "      <td>1</td>\n",
              "      <td>/content/drive/My Drive/Final_redes/Notebooks/...</td>\n",
              "    </tr>\n",
              "    <tr>\n",
              "      <th>37584</th>\n",
              "      <td>c1415e26-fddf-4a0c-a7eb-7b9a0d9e9983</td>\n",
              "      <td>1</td>\n",
              "      <td>/content/drive/My Drive/Final_redes/Notebooks/...</td>\n",
              "    </tr>\n",
              "    <tr>\n",
              "      <th>37612</th>\n",
              "      <td>c1cf3255-d734-4980-bfe0-967902ad7ed9</td>\n",
              "      <td>0</td>\n",
              "      <td>/content/drive/My Drive/Final_redes/Notebooks/...</td>\n",
              "    </tr>\n",
              "    <tr>\n",
              "      <th>37619</th>\n",
              "      <td>c1ec14ff-f6d7-4b38-b0cb-fe07041cbdc8</td>\n",
              "      <td>1</td>\n",
              "      <td>/content/drive/My Drive/Final_redes/Notebooks/...</td>\n",
              "    </tr>\n",
              "  </tbody>\n",
              "</table>\n",
              "<p>4003 rows × 3 columns</p>\n",
              "</div>"
            ],
            "text/plain": [
              "                                  patientId  ...                                               path\n",
              "4      00436515-870c-4b36-a041-de91049b9ab4  ...  /content/drive/My Drive/Final_redes/Notebooks/...\n",
              "15     009482dc-3db5-48d4-8580-5c89c4f01334  ...  /content/drive/My Drive/Final_redes/Notebooks/...\n",
              "43     014b7b58-f641-4477-8bbc-ae6f337745d6  ...  /content/drive/My Drive/Final_redes/Notebooks/...\n",
              "50     017c7b5b-618e-4bc9-943c-04c6a988d992  ...  /content/drive/My Drive/Final_redes/Notebooks/...\n",
              "57     01a4059c-22f7-4f51-8a27-50aff0b3aeb3  ...  /content/drive/My Drive/Final_redes/Notebooks/...\n",
              "...                                     ...  ...                                                ...\n",
              "37559  c0dd2290-7dc1-4589-8061-57dfdfa23a4c  ...  /content/drive/My Drive/Final_redes/Notebooks/...\n",
              "37582  c1273696-fdec-48a9-988c-74e57b6323fa  ...  /content/drive/My Drive/Final_redes/Notebooks/...\n",
              "37584  c1415e26-fddf-4a0c-a7eb-7b9a0d9e9983  ...  /content/drive/My Drive/Final_redes/Notebooks/...\n",
              "37612  c1cf3255-d734-4980-bfe0-967902ad7ed9  ...  /content/drive/My Drive/Final_redes/Notebooks/...\n",
              "37619  c1ec14ff-f6d7-4b38-b0cb-fe07041cbdc8  ...  /content/drive/My Drive/Final_redes/Notebooks/...\n",
              "\n",
              "[4003 rows x 3 columns]"
            ]
          },
          "metadata": {
            "tags": []
          },
          "execution_count": 20
        }
      ]
    },
    {
      "cell_type": "markdown",
      "metadata": {
        "id": "wQXjmh4qOx0T",
        "colab_type": "text"
      },
      "source": [
        "Se divide este dataframe en un nuevo validation más pequeño (*df_small_validation*) y uno de test. El de validation es el doble de grande que el de test. La división se hace estratificada."
      ]
    },
    {
      "cell_type": "code",
      "metadata": {
        "id": "Rufpj5ItxWkn",
        "colab_type": "code",
        "colab": {
          "base_uri": "https://localhost:8080/",
          "height": 34
        },
        "outputId": "93ab664f-5fcd-4ef8-f576-615c24e64df1"
      },
      "source": [
        "from sklearn.model_selection import train_test_split\n",
        "\n",
        "df_small_validation, df_test = train_test_split(df_validation, test_size=0.33, stratify=df_validation['Target'])\n",
        "\n",
        "print('The size of the validation subset is',len(df_small_validation),'and the size of the test subset is',len(df_test))"
      ],
      "execution_count": null,
      "outputs": [
        {
          "output_type": "stream",
          "text": [
            "The size of the validation subset is 2682 and the size of the test subset is 1321\n"
          ],
          "name": "stdout"
        }
      ]
    },
    {
      "cell_type": "markdown",
      "metadata": {
        "id": "lvJhchZoPGHq",
        "colab_type": "text"
      },
      "source": [
        "Se crean y guardan los archivos."
      ]
    },
    {
      "cell_type": "code",
      "metadata": {
        "id": "NzWAnCF9xtfP",
        "colab_type": "code",
        "colab": {}
      },
      "source": [
        "np.savetxt('test_with_ann.txt', df_test.path, fmt='%s')\n",
        "np.savetxt('validation_with_ann.txt', df_small_validation.path, fmt='%s')"
      ],
      "execution_count": null,
      "outputs": []
    },
    {
      "cell_type": "markdown",
      "metadata": {
        "id": "TrbMIF68PIXR",
        "colab_type": "text"
      },
      "source": [
        "Para el análisis de resultados, fue útil saber cuáles de los archivos de test correspondían a imágenes con opacidades. Por eso, se repite lo anterior ahora con test. "
      ]
    },
    {
      "cell_type": "code",
      "metadata": {
        "id": "Pskvgx6J-e3i",
        "colab_type": "code",
        "colab": {
          "base_uri": "https://localhost:8080/",
          "height": 204
        },
        "outputId": "bd85ec75-72a1-45a8-add3-01613be6f772"
      },
      "source": [
        "test_txt_dir = '/content/drive/My Drive/Final_redes/Notebooks/DarkNet-kriyeng-imagenes1024/dataContainer/test_with_ann.txt'\n",
        "with open(test_txt_dir, \"r\") as f:\n",
        "  test_txt = f.read()\n",
        "\n",
        "test_txt = test_txt.split('\\n')\n",
        "\n",
        "df_per_patient['path'] = '/content/drive/My Drive/Final_redes/Notebooks/DarkNet-kriyeng-imagenes1024/dataContainer/data/obj/'+df_per_patient['patientId']+'.jpg'\n",
        "df_per_patient.head()"
      ],
      "execution_count": 10,
      "outputs": [
        {
          "output_type": "execute_result",
          "data": {
            "text/html": [
              "<div>\n",
              "<style scoped>\n",
              "    .dataframe tbody tr th:only-of-type {\n",
              "        vertical-align: middle;\n",
              "    }\n",
              "\n",
              "    .dataframe tbody tr th {\n",
              "        vertical-align: top;\n",
              "    }\n",
              "\n",
              "    .dataframe thead th {\n",
              "        text-align: right;\n",
              "    }\n",
              "</style>\n",
              "<table border=\"1\" class=\"dataframe\">\n",
              "  <thead>\n",
              "    <tr style=\"text-align: right;\">\n",
              "      <th></th>\n",
              "      <th>patientId</th>\n",
              "      <th>Target</th>\n",
              "      <th>path</th>\n",
              "    </tr>\n",
              "  </thead>\n",
              "  <tbody>\n",
              "    <tr>\n",
              "      <th>0</th>\n",
              "      <td>0004cfab-14fd-4e49-80ba-63a80b6bddd6</td>\n",
              "      <td>0</td>\n",
              "      <td>/content/drive/My Drive/Final_redes/Notebooks/...</td>\n",
              "    </tr>\n",
              "    <tr>\n",
              "      <th>1</th>\n",
              "      <td>00313ee0-9eaa-42f4-b0ab-c148ed3241cd</td>\n",
              "      <td>0</td>\n",
              "      <td>/content/drive/My Drive/Final_redes/Notebooks/...</td>\n",
              "    </tr>\n",
              "    <tr>\n",
              "      <th>2</th>\n",
              "      <td>00322d4d-1c29-4943-afc9-b6754be640eb</td>\n",
              "      <td>0</td>\n",
              "      <td>/content/drive/My Drive/Final_redes/Notebooks/...</td>\n",
              "    </tr>\n",
              "    <tr>\n",
              "      <th>3</th>\n",
              "      <td>003d8fa0-6bf1-40ed-b54c-ac657f8495c5</td>\n",
              "      <td>0</td>\n",
              "      <td>/content/drive/My Drive/Final_redes/Notebooks/...</td>\n",
              "    </tr>\n",
              "    <tr>\n",
              "      <th>4</th>\n",
              "      <td>00436515-870c-4b36-a041-de91049b9ab4</td>\n",
              "      <td>1</td>\n",
              "      <td>/content/drive/My Drive/Final_redes/Notebooks/...</td>\n",
              "    </tr>\n",
              "  </tbody>\n",
              "</table>\n",
              "</div>"
            ],
            "text/plain": [
              "                              patientId  ...                                               path\n",
              "0  0004cfab-14fd-4e49-80ba-63a80b6bddd6  ...  /content/drive/My Drive/Final_redes/Notebooks/...\n",
              "1  00313ee0-9eaa-42f4-b0ab-c148ed3241cd  ...  /content/drive/My Drive/Final_redes/Notebooks/...\n",
              "2  00322d4d-1c29-4943-afc9-b6754be640eb  ...  /content/drive/My Drive/Final_redes/Notebooks/...\n",
              "3  003d8fa0-6bf1-40ed-b54c-ac657f8495c5  ...  /content/drive/My Drive/Final_redes/Notebooks/...\n",
              "4  00436515-870c-4b36-a041-de91049b9ab4  ...  /content/drive/My Drive/Final_redes/Notebooks/...\n",
              "\n",
              "[5 rows x 3 columns]"
            ]
          },
          "metadata": {
            "tags": []
          },
          "execution_count": 10
        }
      ]
    },
    {
      "cell_type": "code",
      "metadata": {
        "id": "cGl2Aq5v-zt-",
        "colab_type": "code",
        "colab": {
          "base_uri": "https://localhost:8080/",
          "height": 419
        },
        "outputId": "a9f547c3-1e37-4e9c-d93d-dfbe8a538a2c"
      },
      "source": [
        "df_test = df_per_patient[df_per_patient['path'].isin(test_txt)]\n",
        "df_test"
      ],
      "execution_count": 11,
      "outputs": [
        {
          "output_type": "execute_result",
          "data": {
            "text/html": [
              "<div>\n",
              "<style scoped>\n",
              "    .dataframe tbody tr th:only-of-type {\n",
              "        vertical-align: middle;\n",
              "    }\n",
              "\n",
              "    .dataframe tbody tr th {\n",
              "        vertical-align: top;\n",
              "    }\n",
              "\n",
              "    .dataframe thead th {\n",
              "        text-align: right;\n",
              "    }\n",
              "</style>\n",
              "<table border=\"1\" class=\"dataframe\">\n",
              "  <thead>\n",
              "    <tr style=\"text-align: right;\">\n",
              "      <th></th>\n",
              "      <th>patientId</th>\n",
              "      <th>Target</th>\n",
              "      <th>path</th>\n",
              "    </tr>\n",
              "  </thead>\n",
              "  <tbody>\n",
              "    <tr>\n",
              "      <th>10</th>\n",
              "      <td>00704310-78a8-4b38-8475-49f4573b2dbb</td>\n",
              "      <td>1</td>\n",
              "      <td>/content/drive/My Drive/Final_redes/Notebooks/...</td>\n",
              "    </tr>\n",
              "    <tr>\n",
              "      <th>14</th>\n",
              "      <td>008c19e8-a820-403a-930a-bc74a4053664</td>\n",
              "      <td>0</td>\n",
              "      <td>/content/drive/My Drive/Final_redes/Notebooks/...</td>\n",
              "    </tr>\n",
              "    <tr>\n",
              "      <th>31</th>\n",
              "      <td>00f87de5-5fe0-4921-93ea-914d7e683266</td>\n",
              "      <td>0</td>\n",
              "      <td>/content/drive/My Drive/Final_redes/Notebooks/...</td>\n",
              "    </tr>\n",
              "    <tr>\n",
              "      <th>33</th>\n",
              "      <td>01027bc3-dc40-4165-a6c3-d6be2cb7ca34</td>\n",
              "      <td>0</td>\n",
              "      <td>/content/drive/My Drive/Final_redes/Notebooks/...</td>\n",
              "    </tr>\n",
              "    <tr>\n",
              "      <th>87</th>\n",
              "      <td>01cc7c75-4498-43ab-b650-5553d0507f76</td>\n",
              "      <td>0</td>\n",
              "      <td>/content/drive/My Drive/Final_redes/Notebooks/...</td>\n",
              "    </tr>\n",
              "    <tr>\n",
              "      <th>...</th>\n",
              "      <td>...</td>\n",
              "      <td>...</td>\n",
              "      <td>...</td>\n",
              "    </tr>\n",
              "    <tr>\n",
              "      <th>37407</th>\n",
              "      <td>2f1cc91c-e75f-4a24-8fea-2edf6e5171f7</td>\n",
              "      <td>0</td>\n",
              "      <td>/content/drive/My Drive/Final_redes/Notebooks/...</td>\n",
              "    </tr>\n",
              "    <tr>\n",
              "      <th>37449</th>\n",
              "      <td>2faeab4f-17bf-410e-99b9-77bf4ae75963</td>\n",
              "      <td>0</td>\n",
              "      <td>/content/drive/My Drive/Final_redes/Notebooks/...</td>\n",
              "    </tr>\n",
              "    <tr>\n",
              "      <th>37467</th>\n",
              "      <td>303390de-3812-4aae-893f-3f18897a6c21</td>\n",
              "      <td>1</td>\n",
              "      <td>/content/drive/My Drive/Final_redes/Notebooks/...</td>\n",
              "    </tr>\n",
              "    <tr>\n",
              "      <th>37477</th>\n",
              "      <td>304a94f8-b5cf-4bef-ab88-ad9edbb7e68e</td>\n",
              "      <td>0</td>\n",
              "      <td>/content/drive/My Drive/Final_redes/Notebooks/...</td>\n",
              "    </tr>\n",
              "    <tr>\n",
              "      <th>37573</th>\n",
              "      <td>c10726b6-c944-403f-9062-f0bf922ef149</td>\n",
              "      <td>0</td>\n",
              "      <td>/content/drive/My Drive/Final_redes/Notebooks/...</td>\n",
              "    </tr>\n",
              "  </tbody>\n",
              "</table>\n",
              "<p>1321 rows × 3 columns</p>\n",
              "</div>"
            ],
            "text/plain": [
              "                                  patientId  ...                                               path\n",
              "10     00704310-78a8-4b38-8475-49f4573b2dbb  ...  /content/drive/My Drive/Final_redes/Notebooks/...\n",
              "14     008c19e8-a820-403a-930a-bc74a4053664  ...  /content/drive/My Drive/Final_redes/Notebooks/...\n",
              "31     00f87de5-5fe0-4921-93ea-914d7e683266  ...  /content/drive/My Drive/Final_redes/Notebooks/...\n",
              "33     01027bc3-dc40-4165-a6c3-d6be2cb7ca34  ...  /content/drive/My Drive/Final_redes/Notebooks/...\n",
              "87     01cc7c75-4498-43ab-b650-5553d0507f76  ...  /content/drive/My Drive/Final_redes/Notebooks/...\n",
              "...                                     ...  ...                                                ...\n",
              "37407  2f1cc91c-e75f-4a24-8fea-2edf6e5171f7  ...  /content/drive/My Drive/Final_redes/Notebooks/...\n",
              "37449  2faeab4f-17bf-410e-99b9-77bf4ae75963  ...  /content/drive/My Drive/Final_redes/Notebooks/...\n",
              "37467  303390de-3812-4aae-893f-3f18897a6c21  ...  /content/drive/My Drive/Final_redes/Notebooks/...\n",
              "37477  304a94f8-b5cf-4bef-ab88-ad9edbb7e68e  ...  /content/drive/My Drive/Final_redes/Notebooks/...\n",
              "37573  c10726b6-c944-403f-9062-f0bf922ef149  ...  /content/drive/My Drive/Final_redes/Notebooks/...\n",
              "\n",
              "[1321 rows x 3 columns]"
            ]
          },
          "metadata": {
            "tags": []
          },
          "execution_count": 11
        }
      ]
    },
    {
      "cell_type": "markdown",
      "metadata": {
        "id": "Z88qw60LPZwh",
        "colab_type": "text"
      },
      "source": [
        "Este archivo tiene únicamente los paths a imágenes de test con opacidades pulmonares."
      ]
    },
    {
      "cell_type": "code",
      "metadata": {
        "id": "kBRcUUE4dpe-",
        "colab_type": "code",
        "colab": {}
      },
      "source": [
        "df_test[df_test['Target']==1].to_csv('test_with_annotations.txt',index=False)"
      ],
      "execution_count": 12,
      "outputs": []
    },
    {
      "cell_type": "markdown",
      "metadata": {
        "id": "j7LX5FXchisd",
        "colab_type": "text"
      },
      "source": [
        "## Train y validation solo con opacidades\n",
        "\n",
        "Esto fue para uno de nuestros modelos que luego fue descartado. Se conservaban solo las imágenes con opacidad y se armaba train y validation con ellas. La ventaja de Darknet es que para entrenar con solo un conjunto de las imágenes que se tienen basta con armar distinto estos archivos .txt. No es necesario crear nuevas copias de las imágenes."
      ]
    },
    {
      "cell_type": "code",
      "metadata": {
        "id": "Dd-Nk0IN2Ev0",
        "colab_type": "code",
        "colab": {
          "base_uri": "https://localhost:8080/",
          "height": 194
        },
        "outputId": "c0a6db52-d2dc-4a8e-8b8b-ef899678ceb0"
      },
      "source": [
        "df_with_op = df[df['Target']==1].copy()\n",
        "df_per_patient_with_op = pd.DataFrame(df_with_op['patientId'].drop_duplicates())\n",
        "df_per_patient_with_op.head(5)"
      ],
      "execution_count": null,
      "outputs": [
        {
          "output_type": "execute_result",
          "data": {
            "text/html": [
              "<div>\n",
              "<style scoped>\n",
              "    .dataframe tbody tr th:only-of-type {\n",
              "        vertical-align: middle;\n",
              "    }\n",
              "\n",
              "    .dataframe tbody tr th {\n",
              "        vertical-align: top;\n",
              "    }\n",
              "\n",
              "    .dataframe thead th {\n",
              "        text-align: right;\n",
              "    }\n",
              "</style>\n",
              "<table border=\"1\" class=\"dataframe\">\n",
              "  <thead>\n",
              "    <tr style=\"text-align: right;\">\n",
              "      <th></th>\n",
              "      <th>patientId</th>\n",
              "    </tr>\n",
              "  </thead>\n",
              "  <tbody>\n",
              "    <tr>\n",
              "      <th>4</th>\n",
              "      <td>00436515-870c-4b36-a041-de91049b9ab4</td>\n",
              "    </tr>\n",
              "    <tr>\n",
              "      <th>10</th>\n",
              "      <td>00704310-78a8-4b38-8475-49f4573b2dbb</td>\n",
              "    </tr>\n",
              "    <tr>\n",
              "      <th>18</th>\n",
              "      <td>00aecb01-a116-45a2-956c-08d2fa55433f</td>\n",
              "    </tr>\n",
              "    <tr>\n",
              "      <th>22</th>\n",
              "      <td>00c0b293-48e7-4e16-ac76-9269ba535a62</td>\n",
              "    </tr>\n",
              "    <tr>\n",
              "      <th>27</th>\n",
              "      <td>00f08de1-517e-4652-a04f-d1dc9ee48593</td>\n",
              "    </tr>\n",
              "  </tbody>\n",
              "</table>\n",
              "</div>"
            ],
            "text/plain": [
              "                               patientId\n",
              "4   00436515-870c-4b36-a041-de91049b9ab4\n",
              "10  00704310-78a8-4b38-8475-49f4573b2dbb\n",
              "18  00aecb01-a116-45a2-956c-08d2fa55433f\n",
              "22  00c0b293-48e7-4e16-ac76-9269ba535a62\n",
              "27  00f08de1-517e-4652-a04f-d1dc9ee48593"
            ]
          },
          "metadata": {
            "tags": []
          },
          "execution_count": 12
        }
      ]
    },
    {
      "cell_type": "code",
      "metadata": {
        "id": "0TObNCQnhpS7",
        "colab_type": "code",
        "colab": {
          "base_uri": "https://localhost:8080/",
          "height": 177
        },
        "outputId": "0b38b8e9-3435-4b28-9c93-e78646e88698"
      },
      "source": [
        "df_per_patient_with_op['path'] = '/content/drive/My Drive/Final_redes/Notebooks/DarkNet-kriyeng/data/obj/'+df_per_patient_with_op['patientId']+'.jpg'\n",
        "df_per_patient_with_op.info()"
      ],
      "execution_count": null,
      "outputs": [
        {
          "output_type": "stream",
          "text": [
            "<class 'pandas.core.frame.DataFrame'>\n",
            "Int64Index: 6012 entries, 4 to 37625\n",
            "Data columns (total 2 columns):\n",
            " #   Column     Non-Null Count  Dtype \n",
            "---  ------     --------------  ----- \n",
            " 0   patientId  6012 non-null   object\n",
            " 1   path       6012 non-null   object\n",
            "dtypes: object(2)\n",
            "memory usage: 140.9+ KB\n"
          ],
          "name": "stdout"
        }
      ]
    },
    {
      "cell_type": "code",
      "metadata": {
        "id": "lO6t23Fdh0GF",
        "colab_type": "code",
        "colab": {
          "base_uri": "https://localhost:8080/",
          "height": 35
        },
        "outputId": "989d7812-da53-44ad-9bd5-c13d823254f7"
      },
      "source": [
        "from sklearn.model_selection import train_test_split\n",
        "\n",
        "df_train_with_op, df_validation_with_op = train_test_split(df_per_patient_with_op, test_size=0.15)\n",
        "\n",
        "print('The size of the train subset is',len(df_train_with_op),'and the size of the validation subset is',len(df_validation_with_op))"
      ],
      "execution_count": null,
      "outputs": [
        {
          "output_type": "stream",
          "text": [
            "The size of the train subset is 5110 and the size of the validation subset is 902\n"
          ],
          "name": "stdout"
        }
      ]
    },
    {
      "cell_type": "code",
      "metadata": {
        "id": "KBJ9IRwah_DY",
        "colab_type": "code",
        "colab": {}
      },
      "source": [
        "np.savetxt('train_with_op.txt', df_train_with_op.path, fmt='%s')\n",
        "np.savetxt('validation_with_op.txt', df_validation_with_op.path, fmt='%s')"
      ],
      "execution_count": null,
      "outputs": []
    },
    {
      "cell_type": "markdown",
      "metadata": {
        "id": "3ThUta9csyCd",
        "colab_type": "text"
      },
      "source": [
        "## Train y validation parejos\n",
        "sto fue para uno de nuestros modelos que luego fue descartado. Se conservaban todas las imágenes con opacidad y el mismo número de imágenes que no tienen opacidad para tener un dataset balanceado. Para esto se ordenó el *df_per_patient* según el Target, por lo que quedaron todas las imágenes con opacidades arriba. Como se conocía que eran 6012, se armó train y validation con las primeras 12024 imágenes de este dataframe ordenado."
      ]
    },
    {
      "cell_type": "code",
      "metadata": {
        "id": "gScXSQAzr0NM",
        "colab_type": "code",
        "colab": {
          "base_uri": "https://localhost:8080/",
          "height": 927
        },
        "outputId": "1734648a-220f-428f-c726-27c7e823195b"
      },
      "source": [
        "df_ordered = df_per_patient.sort_values(by = \"Target\", ascending= False)\n",
        "df_ordered.head(30)"
      ],
      "execution_count": null,
      "outputs": [
        {
          "output_type": "execute_result",
          "data": {
            "text/html": [
              "<div>\n",
              "<style scoped>\n",
              "    .dataframe tbody tr th:only-of-type {\n",
              "        vertical-align: middle;\n",
              "    }\n",
              "\n",
              "    .dataframe tbody tr th {\n",
              "        vertical-align: top;\n",
              "    }\n",
              "\n",
              "    .dataframe thead th {\n",
              "        text-align: right;\n",
              "    }\n",
              "</style>\n",
              "<table border=\"1\" class=\"dataframe\">\n",
              "  <thead>\n",
              "    <tr style=\"text-align: right;\">\n",
              "      <th></th>\n",
              "      <th>patientId</th>\n",
              "      <th>Target</th>\n",
              "    </tr>\n",
              "  </thead>\n",
              "  <tbody>\n",
              "    <tr>\n",
              "      <th>37625</th>\n",
              "      <td>c1f7889a-9ea9-4acb-b64c-b737c929599a</td>\n",
              "      <td>1</td>\n",
              "    </tr>\n",
              "    <tr>\n",
              "      <th>3433</th>\n",
              "      <td>32408669-c137-4e8d-bd62-fe8345b40e73</td>\n",
              "      <td>1</td>\n",
              "    </tr>\n",
              "    <tr>\n",
              "      <th>19515</th>\n",
              "      <td>98d96d73-2a33-45a0-a242-dbbad2f2e579</td>\n",
              "      <td>1</td>\n",
              "    </tr>\n",
              "    <tr>\n",
              "      <th>3907</th>\n",
              "      <td>34591201-fa13-4dfc-809f-bb3cb8ca7665</td>\n",
              "      <td>1</td>\n",
              "    </tr>\n",
              "    <tr>\n",
              "      <th>35246</th>\n",
              "      <td>fbb1a00f-e687-4f08-a085-94ba2a3ff0ec</td>\n",
              "      <td>1</td>\n",
              "    </tr>\n",
              "    <tr>\n",
              "      <th>3888</th>\n",
              "      <td>34297b7d-9e22-4e73-b105-a8db72ad36ee</td>\n",
              "      <td>1</td>\n",
              "    </tr>\n",
              "    <tr>\n",
              "      <th>21949</th>\n",
              "      <td>a93bed75-231d-47cc-a21e-9a70c0d072b2</td>\n",
              "      <td>1</td>\n",
              "    </tr>\n",
              "    <tr>\n",
              "      <th>3680</th>\n",
              "      <td>3352dd2e-717c-4a5a-ad4b-81315818b351</td>\n",
              "      <td>1</td>\n",
              "    </tr>\n",
              "    <tr>\n",
              "      <th>3675</th>\n",
              "      <td>334c4445-63ce-401a-a1a2-1a467901a1ae</td>\n",
              "      <td>1</td>\n",
              "    </tr>\n",
              "    <tr>\n",
              "      <th>35414</th>\n",
              "      <td>fcd159f4-21d3-4169-a94b-95a2b5ccddcb</td>\n",
              "      <td>1</td>\n",
              "    </tr>\n",
              "    <tr>\n",
              "      <th>3429</th>\n",
              "      <td>323d4055-2830-433c-8585-e02ff7821a17</td>\n",
              "      <td>1</td>\n",
              "    </tr>\n",
              "    <tr>\n",
              "      <th>3449</th>\n",
              "      <td>3246006e-f323-43c9-a322-4979fdb85f37</td>\n",
              "      <td>1</td>\n",
              "    </tr>\n",
              "    <tr>\n",
              "      <th>21887</th>\n",
              "      <td>a8d85d30-72b0-45c3-8234-9544fbb60c09</td>\n",
              "      <td>1</td>\n",
              "    </tr>\n",
              "    <tr>\n",
              "      <th>3453</th>\n",
              "      <td>3247efbe-0804-4aa6-865b-155e6b9bbb86</td>\n",
              "      <td>1</td>\n",
              "    </tr>\n",
              "    <tr>\n",
              "      <th>21876</th>\n",
              "      <td>a8caec22-eaf7-4acf-bbb8-fa3cdf4f69d5</td>\n",
              "      <td>1</td>\n",
              "    </tr>\n",
              "    <tr>\n",
              "      <th>21880</th>\n",
              "      <td>a8cb813b-9d3a-46ff-8003-053271cdcc9a</td>\n",
              "      <td>1</td>\n",
              "    </tr>\n",
              "    <tr>\n",
              "      <th>3461</th>\n",
              "      <td>3251dea8-4f74-4f4b-8f56-167b0213414b</td>\n",
              "      <td>1</td>\n",
              "    </tr>\n",
              "    <tr>\n",
              "      <th>21883</th>\n",
              "      <td>a8d21d6b-c91f-4ed1-97cc-9f5b9f138146</td>\n",
              "      <td>1</td>\n",
              "    </tr>\n",
              "    <tr>\n",
              "      <th>21884</th>\n",
              "      <td>a8d39eb7-7495-410b-8c23-0723b5245dae</td>\n",
              "      <td>1</td>\n",
              "    </tr>\n",
              "    <tr>\n",
              "      <th>3411</th>\n",
              "      <td>3239951b-6211-4290-b237-3d9ad17176db</td>\n",
              "      <td>1</td>\n",
              "    </tr>\n",
              "    <tr>\n",
              "      <th>3472</th>\n",
              "      <td>3258ba2b-f4fe-45f2-ac47-5d6d1fa5819c</td>\n",
              "      <td>1</td>\n",
              "    </tr>\n",
              "    <tr>\n",
              "      <th>3475</th>\n",
              "      <td>32652bc7-21e2-4aa4-ae0c-461950e4c131</td>\n",
              "      <td>1</td>\n",
              "    </tr>\n",
              "    <tr>\n",
              "      <th>22014</th>\n",
              "      <td>a99561a5-2c12-48cd-be57-ce6b6cf58da1</td>\n",
              "      <td>1</td>\n",
              "    </tr>\n",
              "    <tr>\n",
              "      <th>35253</th>\n",
              "      <td>fbbd0b3f-2305-450b-950f-0f88754ebd94</td>\n",
              "      <td>1</td>\n",
              "    </tr>\n",
              "    <tr>\n",
              "      <th>3897</th>\n",
              "      <td>34411756-b5ea-47b6-bcb4-3dd037d95eba</td>\n",
              "      <td>1</td>\n",
              "    </tr>\n",
              "    <tr>\n",
              "      <th>19519</th>\n",
              "      <td>98e6b228-3bd6-4bfe-be77-12b6567385d5</td>\n",
              "      <td>1</td>\n",
              "    </tr>\n",
              "    <tr>\n",
              "      <th>19502</th>\n",
              "      <td>98c8bc72-1779-43f0-a118-538edcbc9e71</td>\n",
              "      <td>1</td>\n",
              "    </tr>\n",
              "    <tr>\n",
              "      <th>35277</th>\n",
              "      <td>fbde1e4d-650b-4ac5-8921-65510589656c</td>\n",
              "      <td>1</td>\n",
              "    </tr>\n",
              "    <tr>\n",
              "      <th>3918</th>\n",
              "      <td>345e6018-89b7-41d0-bd33-2350c1c60311</td>\n",
              "      <td>1</td>\n",
              "    </tr>\n",
              "    <tr>\n",
              "      <th>3913</th>\n",
              "      <td>345d1a85-8d32-4e43-8e9f-dfb0048da3fe</td>\n",
              "      <td>1</td>\n",
              "    </tr>\n",
              "  </tbody>\n",
              "</table>\n",
              "</div>"
            ],
            "text/plain": [
              "                                  patientId  Target\n",
              "37625  c1f7889a-9ea9-4acb-b64c-b737c929599a       1\n",
              "3433   32408669-c137-4e8d-bd62-fe8345b40e73       1\n",
              "19515  98d96d73-2a33-45a0-a242-dbbad2f2e579       1\n",
              "3907   34591201-fa13-4dfc-809f-bb3cb8ca7665       1\n",
              "35246  fbb1a00f-e687-4f08-a085-94ba2a3ff0ec       1\n",
              "3888   34297b7d-9e22-4e73-b105-a8db72ad36ee       1\n",
              "21949  a93bed75-231d-47cc-a21e-9a70c0d072b2       1\n",
              "3680   3352dd2e-717c-4a5a-ad4b-81315818b351       1\n",
              "3675   334c4445-63ce-401a-a1a2-1a467901a1ae       1\n",
              "35414  fcd159f4-21d3-4169-a94b-95a2b5ccddcb       1\n",
              "3429   323d4055-2830-433c-8585-e02ff7821a17       1\n",
              "3449   3246006e-f323-43c9-a322-4979fdb85f37       1\n",
              "21887  a8d85d30-72b0-45c3-8234-9544fbb60c09       1\n",
              "3453   3247efbe-0804-4aa6-865b-155e6b9bbb86       1\n",
              "21876  a8caec22-eaf7-4acf-bbb8-fa3cdf4f69d5       1\n",
              "21880  a8cb813b-9d3a-46ff-8003-053271cdcc9a       1\n",
              "3461   3251dea8-4f74-4f4b-8f56-167b0213414b       1\n",
              "21883  a8d21d6b-c91f-4ed1-97cc-9f5b9f138146       1\n",
              "21884  a8d39eb7-7495-410b-8c23-0723b5245dae       1\n",
              "3411   3239951b-6211-4290-b237-3d9ad17176db       1\n",
              "3472   3258ba2b-f4fe-45f2-ac47-5d6d1fa5819c       1\n",
              "3475   32652bc7-21e2-4aa4-ae0c-461950e4c131       1\n",
              "22014  a99561a5-2c12-48cd-be57-ce6b6cf58da1       1\n",
              "35253  fbbd0b3f-2305-450b-950f-0f88754ebd94       1\n",
              "3897   34411756-b5ea-47b6-bcb4-3dd037d95eba       1\n",
              "19519  98e6b228-3bd6-4bfe-be77-12b6567385d5       1\n",
              "19502  98c8bc72-1779-43f0-a118-538edcbc9e71       1\n",
              "35277  fbde1e4d-650b-4ac5-8921-65510589656c       1\n",
              "3918   345e6018-89b7-41d0-bd33-2350c1c60311       1\n",
              "3913   345d1a85-8d32-4e43-8e9f-dfb0048da3fe       1"
            ]
          },
          "metadata": {
            "tags": []
          },
          "execution_count": 18
        }
      ]
    },
    {
      "cell_type": "code",
      "metadata": {
        "id": "TBuNknTusKwD",
        "colab_type": "code",
        "colab": {
          "base_uri": "https://localhost:8080/",
          "height": 177
        },
        "outputId": "1cf10a78-e7ec-450d-cd03-7bcd90710d78"
      },
      "source": [
        "df_small = df_ordered[0:12024]\n",
        "df_small[df_small['Target']==1].info()"
      ],
      "execution_count": null,
      "outputs": [
        {
          "output_type": "stream",
          "text": [
            "<class 'pandas.core.frame.DataFrame'>\n",
            "Int64Index: 6012 entries, 37625 to 11198\n",
            "Data columns (total 2 columns):\n",
            " #   Column     Non-Null Count  Dtype \n",
            "---  ------     --------------  ----- \n",
            " 0   patientId  6012 non-null   object\n",
            " 1   Target     6012 non-null   int64 \n",
            "dtypes: int64(1), object(1)\n",
            "memory usage: 140.9+ KB\n"
          ],
          "name": "stdout"
        }
      ]
    },
    {
      "cell_type": "code",
      "metadata": {
        "id": "11NUFwfYtGv_",
        "colab_type": "code",
        "colab": {
          "base_uri": "https://localhost:8080/",
          "height": 300
        },
        "outputId": "846c67be-b49f-4671-e0ba-9b1e2ba967e2"
      },
      "source": [
        "df_small['path'] = '/content/drive/My Drive/Final_redes/Notebooks/DarkNet-kriyeng/data/obj/'+df_small['patientId']+'.jpg'\n",
        "df_small.head()"
      ],
      "execution_count": null,
      "outputs": [
        {
          "output_type": "stream",
          "text": [
            "/usr/local/lib/python3.6/dist-packages/ipykernel_launcher.py:1: SettingWithCopyWarning: \n",
            "A value is trying to be set on a copy of a slice from a DataFrame.\n",
            "Try using .loc[row_indexer,col_indexer] = value instead\n",
            "\n",
            "See the caveats in the documentation: https://pandas.pydata.org/pandas-docs/stable/user_guide/indexing.html#returning-a-view-versus-a-copy\n",
            "  \"\"\"Entry point for launching an IPython kernel.\n"
          ],
          "name": "stderr"
        },
        {
          "output_type": "execute_result",
          "data": {
            "text/html": [
              "<div>\n",
              "<style scoped>\n",
              "    .dataframe tbody tr th:only-of-type {\n",
              "        vertical-align: middle;\n",
              "    }\n",
              "\n",
              "    .dataframe tbody tr th {\n",
              "        vertical-align: top;\n",
              "    }\n",
              "\n",
              "    .dataframe thead th {\n",
              "        text-align: right;\n",
              "    }\n",
              "</style>\n",
              "<table border=\"1\" class=\"dataframe\">\n",
              "  <thead>\n",
              "    <tr style=\"text-align: right;\">\n",
              "      <th></th>\n",
              "      <th>patientId</th>\n",
              "      <th>Target</th>\n",
              "      <th>path</th>\n",
              "    </tr>\n",
              "  </thead>\n",
              "  <tbody>\n",
              "    <tr>\n",
              "      <th>37625</th>\n",
              "      <td>c1f7889a-9ea9-4acb-b64c-b737c929599a</td>\n",
              "      <td>1</td>\n",
              "      <td>/content/drive/My Drive/Final_redes/Notebooks/...</td>\n",
              "    </tr>\n",
              "    <tr>\n",
              "      <th>3433</th>\n",
              "      <td>32408669-c137-4e8d-bd62-fe8345b40e73</td>\n",
              "      <td>1</td>\n",
              "      <td>/content/drive/My Drive/Final_redes/Notebooks/...</td>\n",
              "    </tr>\n",
              "    <tr>\n",
              "      <th>19515</th>\n",
              "      <td>98d96d73-2a33-45a0-a242-dbbad2f2e579</td>\n",
              "      <td>1</td>\n",
              "      <td>/content/drive/My Drive/Final_redes/Notebooks/...</td>\n",
              "    </tr>\n",
              "    <tr>\n",
              "      <th>3907</th>\n",
              "      <td>34591201-fa13-4dfc-809f-bb3cb8ca7665</td>\n",
              "      <td>1</td>\n",
              "      <td>/content/drive/My Drive/Final_redes/Notebooks/...</td>\n",
              "    </tr>\n",
              "    <tr>\n",
              "      <th>35246</th>\n",
              "      <td>fbb1a00f-e687-4f08-a085-94ba2a3ff0ec</td>\n",
              "      <td>1</td>\n",
              "      <td>/content/drive/My Drive/Final_redes/Notebooks/...</td>\n",
              "    </tr>\n",
              "  </tbody>\n",
              "</table>\n",
              "</div>"
            ],
            "text/plain": [
              "                                  patientId  ...                                               path\n",
              "37625  c1f7889a-9ea9-4acb-b64c-b737c929599a  ...  /content/drive/My Drive/Final_redes/Notebooks/...\n",
              "3433   32408669-c137-4e8d-bd62-fe8345b40e73  ...  /content/drive/My Drive/Final_redes/Notebooks/...\n",
              "19515  98d96d73-2a33-45a0-a242-dbbad2f2e579  ...  /content/drive/My Drive/Final_redes/Notebooks/...\n",
              "3907   34591201-fa13-4dfc-809f-bb3cb8ca7665  ...  /content/drive/My Drive/Final_redes/Notebooks/...\n",
              "35246  fbb1a00f-e687-4f08-a085-94ba2a3ff0ec  ...  /content/drive/My Drive/Final_redes/Notebooks/...\n",
              "\n",
              "[5 rows x 3 columns]"
            ]
          },
          "metadata": {
            "tags": []
          },
          "execution_count": 22
        }
      ]
    },
    {
      "cell_type": "code",
      "metadata": {
        "id": "kxRhUQPLtGis",
        "colab_type": "code",
        "colab": {
          "base_uri": "https://localhost:8080/",
          "height": 35
        },
        "outputId": "01c01dc3-f12e-406d-8c80-77fc24ac2651"
      },
      "source": [
        "from sklearn.model_selection import train_test_split\n",
        "\n",
        "df_train_small, df_validation_test_small = train_test_split(df_small, test_size=0.15, stratify=df_small['Target'])\n",
        "\n",
        "df_validation_small, df_test_small = train_test_split(df_validation_test_small, test_size=0.333, stratify=df_validation_test_small['Target'])\n",
        "\n",
        "print('The size of the train subset is',len(df_train_small),', the size of the validation subset is',len(df_validation_small),'and the size of test subset is',len(df_test_small))"
      ],
      "execution_count": null,
      "outputs": [
        {
          "output_type": "stream",
          "text": [
            "The size of the train subset is 10220 , the size of the validation subset is 1203 and the size of test subset is 601\n"
          ],
          "name": "stdout"
        }
      ]
    },
    {
      "cell_type": "code",
      "metadata": {
        "id": "dJMLa_sgu-Cc",
        "colab_type": "code",
        "colab": {}
      },
      "source": [
        "np.savetxt('train.txt', df_train_small.path, fmt='%s')\n",
        "np.savetxt('validation.txt', df_validation_small.path, fmt='%s')\n",
        "np.savetxt('test.txt', df_test_small.path, fmt='%s')"
      ],
      "execution_count": null,
      "outputs": []
    },
    {
      "cell_type": "code",
      "metadata": {
        "id": "GbBuEW_yvqOX",
        "colab_type": "code",
        "colab": {}
      },
      "source": [
        "df_train_small.to_csv(r'/content/drive/My Drive/Final_redes/df_train_small.csv', index = False)\n",
        "df_validation_small.to_csv(r'/content/drive/My Drive/Final_redes/df_validation_small.csv', index = False)\n",
        "df_test_small.to_csv(r'/content/drive/My Drive/Final_redes/df_test_small.csv', index = False)"
      ],
      "execution_count": null,
      "outputs": []
    },
    {
      "cell_type": "markdown",
      "metadata": {
        "id": "qOTU7TDOEWyD",
        "colab_type": "text"
      },
      "source": [
        "# Pre procesamiento para el espejado masivo\n",
        "Este es el código que utilizamos para espejar las imágenes que tenían ViewPosition anteroposterior. En la notebook de MarcoTeorico, se creó un csv con una extensión del *df* original, donde se agregó la columna de la ViewPosition. Para esto, fue necesario abrir los archivos DICOM de las imágenes y persistir el valor en el dataframe de pandas. Se importa este csv y se lo utiliza para el preprocesamiento en bloque. Esto se llevó a cabo sobre una copia de las imágenes por lo que no afecta en absoluto al dataset que se utilizó para efectivamente entrenar los modelos finales."
      ]
    },
    {
      "cell_type": "code",
      "metadata": {
        "id": "cAKyjPtdEaA1",
        "colab_type": "code",
        "colab": {
          "base_uri": "https://localhost:8080/",
          "height": 204
        },
        "outputId": "22958d0c-fe2f-4a10-e43d-e96b8238ea12"
      },
      "source": [
        "df_with_vp = pd.read_csv('/content/drive/My Drive/Final_redes/df_with_VP.csv')\n",
        "df_with_vp.head(5)"
      ],
      "execution_count": null,
      "outputs": [
        {
          "output_type": "execute_result",
          "data": {
            "text/html": [
              "<div>\n",
              "<style scoped>\n",
              "    .dataframe tbody tr th:only-of-type {\n",
              "        vertical-align: middle;\n",
              "    }\n",
              "\n",
              "    .dataframe tbody tr th {\n",
              "        vertical-align: top;\n",
              "    }\n",
              "\n",
              "    .dataframe thead th {\n",
              "        text-align: right;\n",
              "    }\n",
              "</style>\n",
              "<table border=\"1\" class=\"dataframe\">\n",
              "  <thead>\n",
              "    <tr style=\"text-align: right;\">\n",
              "      <th></th>\n",
              "      <th>patientId</th>\n",
              "      <th>class</th>\n",
              "      <th>x</th>\n",
              "      <th>y</th>\n",
              "      <th>width</th>\n",
              "      <th>height</th>\n",
              "      <th>Target</th>\n",
              "      <th>ViewPosition</th>\n",
              "    </tr>\n",
              "  </thead>\n",
              "  <tbody>\n",
              "    <tr>\n",
              "      <th>0</th>\n",
              "      <td>0004cfab-14fd-4e49-80ba-63a80b6bddd6</td>\n",
              "      <td>No Lung Opacity / Not Normal</td>\n",
              "      <td>NaN</td>\n",
              "      <td>NaN</td>\n",
              "      <td>NaN</td>\n",
              "      <td>NaN</td>\n",
              "      <td>0</td>\n",
              "      <td>PA</td>\n",
              "    </tr>\n",
              "    <tr>\n",
              "      <th>1</th>\n",
              "      <td>00313ee0-9eaa-42f4-b0ab-c148ed3241cd</td>\n",
              "      <td>No Lung Opacity / Not Normal</td>\n",
              "      <td>NaN</td>\n",
              "      <td>NaN</td>\n",
              "      <td>NaN</td>\n",
              "      <td>NaN</td>\n",
              "      <td>0</td>\n",
              "      <td>PA</td>\n",
              "    </tr>\n",
              "    <tr>\n",
              "      <th>2</th>\n",
              "      <td>00322d4d-1c29-4943-afc9-b6754be640eb</td>\n",
              "      <td>No Lung Opacity / Not Normal</td>\n",
              "      <td>NaN</td>\n",
              "      <td>NaN</td>\n",
              "      <td>NaN</td>\n",
              "      <td>NaN</td>\n",
              "      <td>0</td>\n",
              "      <td>AP</td>\n",
              "    </tr>\n",
              "    <tr>\n",
              "      <th>3</th>\n",
              "      <td>003d8fa0-6bf1-40ed-b54c-ac657f8495c5</td>\n",
              "      <td>Normal</td>\n",
              "      <td>NaN</td>\n",
              "      <td>NaN</td>\n",
              "      <td>NaN</td>\n",
              "      <td>NaN</td>\n",
              "      <td>0</td>\n",
              "      <td>PA</td>\n",
              "    </tr>\n",
              "    <tr>\n",
              "      <th>4</th>\n",
              "      <td>00436515-870c-4b36-a041-de91049b9ab4</td>\n",
              "      <td>Lung Opacity</td>\n",
              "      <td>264.0</td>\n",
              "      <td>152.0</td>\n",
              "      <td>213.0</td>\n",
              "      <td>379.0</td>\n",
              "      <td>1</td>\n",
              "      <td>AP</td>\n",
              "    </tr>\n",
              "  </tbody>\n",
              "</table>\n",
              "</div>"
            ],
            "text/plain": [
              "                              patientId  ... ViewPosition\n",
              "0  0004cfab-14fd-4e49-80ba-63a80b6bddd6  ...           PA\n",
              "1  00313ee0-9eaa-42f4-b0ab-c148ed3241cd  ...           PA\n",
              "2  00322d4d-1c29-4943-afc9-b6754be640eb  ...           AP\n",
              "3  003d8fa0-6bf1-40ed-b54c-ac657f8495c5  ...           PA\n",
              "4  00436515-870c-4b36-a041-de91049b9ab4  ...           AP\n",
              "\n",
              "[5 rows x 8 columns]"
            ]
          },
          "metadata": {
            "tags": []
          },
          "execution_count": 19
        }
      ]
    },
    {
      "cell_type": "markdown",
      "metadata": {
        "id": "TS2aqSKPSNYC",
        "colab_type": "text"
      },
      "source": [
        "Las imágenes anteroposteriores había que espejarlas y solo aquellas que tenían opacidades había que tomar sus anotaciones y reflejar las coordenadas. Como están normalizadas, bastaba con hacer 1-coordenada"
      ]
    },
    {
      "cell_type": "code",
      "metadata": {
        "id": "m1yggkg2Ew_a",
        "colab_type": "code",
        "colab": {
          "base_uri": "https://localhost:8080/",
          "height": 153
        },
        "outputId": "5d08980f-c953-4a43-80d0-2e3fb47aa58c"
      },
      "source": [
        "df_to_flip = df_with_vp[df_with_vp['ViewPosition']=='AP']\n",
        "df_to_flip[df_to_flip['Target']==1].head(30)\n",
        "df_patients_toflip = pd.DataFrame(df_to_flip['patientId'].drop_duplicates())\n",
        "df_patients_toflip.info()"
      ],
      "execution_count": null,
      "outputs": [
        {
          "output_type": "stream",
          "text": [
            "<class 'pandas.core.frame.DataFrame'>\n",
            "Int64Index: 12173 entries, 2 to 30225\n",
            "Data columns (total 1 columns):\n",
            " #   Column     Non-Null Count  Dtype \n",
            "---  ------     --------------  ----- \n",
            " 0   patientId  12173 non-null  object\n",
            "dtypes: object(1)\n",
            "memory usage: 190.2+ KB\n"
          ],
          "name": "stdout"
        }
      ]
    },
    {
      "cell_type": "code",
      "metadata": {
        "id": "9Feynv4aE4NR",
        "colab_type": "code",
        "colab": {}
      },
      "source": [
        "#Build directions to images in jpg\n",
        "main_dir_DN = '/content/drive/My Drive/Final_redes/Notebooks/DarkNet-flipped'\n",
        "train_jpg_dir = os.path.join(main_dir_DN, 'data/obj')"
      ],
      "execution_count": null,
      "outputs": []
    },
    {
      "cell_type": "code",
      "metadata": {
        "id": "Jq_PY6R7FHb-",
        "colab_type": "code",
        "colab": {
          "base_uri": "https://localhost:8080/",
          "height": 370
        },
        "outputId": "2a62af45-b833-4be6-e2a6-9f0572fd7be0"
      },
      "source": [
        "for index, row in df_patients_toflip.iterrows():\n",
        "  patientId = row[0]\n",
        "  try:\n",
        "    #Flip image\n",
        "    img_dir = os.path.join(train_jpg_dir,patientId+'.jpg')\n",
        "    img = np.array(Image.open(img_dir))\n",
        "    flipped = np.fliplr(img)\n",
        "    #delete original image\n",
        "    open(img_dir, 'w').close() \n",
        "    os.remove(img_dir)\n",
        "    #save flipped image in the same directory\n",
        "    Image.fromarray(flipped).save(img_dir)\n",
        "\n",
        "  except IOError:\n",
        "    print('Error at:',patientId)\n",
        "\n",
        "  #Flip annotations\n",
        "  ann_dir = os.path.join(train_jpg_dir,patientId+'.txt')\n",
        "  with open(ann_dir) as ann:\n",
        "    annotations = list(ann)\n",
        "  if annotations: #If there are annotations to flip -> opacities\n",
        "    for i in range(len(annotations)):\n",
        "      ann = annotations[i].split()\n",
        "      x_center = float(ann[1])\n",
        "      y_center = float(ann[2])\n",
        "      x_center_flipped = 1-x_center\n",
        "      y_center_flipped = 1-y_center\n",
        "     #replace with flipped values\n",
        "      ann[1] = str(x_center_flipped)\n",
        "      ann[2] = str(y_center_flipped)\n",
        "      annotations[i] = ' '.join(ann)\n",
        "    #convert to single string as annotation\n",
        "    annotation = '\\n'.join(annotations)\n",
        "    #delete original annotations\n",
        "    open(ann_dir, 'w').close() #overwrite and make the file blank instead - ref: https://stackoverflow.com/a/4914288/3553367\n",
        "    os.remove(ann_dir)\n",
        "    text_file = open(ann_dir, \"w\")\n",
        "    text_file.write(annotation)\n",
        "    text_file.close()"
      ],
      "execution_count": null,
      "outputs": [
        {
          "output_type": "error",
          "ename": "OSError",
          "evalue": "ignored",
          "traceback": [
            "\u001b[0;31m---------------------------------------------------------------------------\u001b[0m",
            "\u001b[0;31mOSError\u001b[0m                                   Traceback (most recent call last)",
            "\u001b[0;32m<ipython-input-26-f03fbec70824>\u001b[0m in \u001b[0;36m<module>\u001b[0;34m()\u001b[0m\n\u001b[1;32m      3\u001b[0m   \u001b[0;31m#Flip image\u001b[0m\u001b[0;34m\u001b[0m\u001b[0;34m\u001b[0m\u001b[0;34m\u001b[0m\u001b[0m\n\u001b[1;32m      4\u001b[0m   \u001b[0mimg_dir\u001b[0m \u001b[0;34m=\u001b[0m \u001b[0mos\u001b[0m\u001b[0;34m.\u001b[0m\u001b[0mpath\u001b[0m\u001b[0;34m.\u001b[0m\u001b[0mjoin\u001b[0m\u001b[0;34m(\u001b[0m\u001b[0mtrain_jpg_dir\u001b[0m\u001b[0;34m,\u001b[0m\u001b[0mpatientId\u001b[0m\u001b[0;34m+\u001b[0m\u001b[0;34m'.jpg'\u001b[0m\u001b[0;34m)\u001b[0m\u001b[0;34m\u001b[0m\u001b[0;34m\u001b[0m\u001b[0m\n\u001b[0;32m----> 5\u001b[0;31m   \u001b[0mimg\u001b[0m \u001b[0;34m=\u001b[0m \u001b[0mnp\u001b[0m\u001b[0;34m.\u001b[0m\u001b[0marray\u001b[0m\u001b[0;34m(\u001b[0m\u001b[0mImage\u001b[0m\u001b[0;34m.\u001b[0m\u001b[0mopen\u001b[0m\u001b[0;34m(\u001b[0m\u001b[0mimg_dir\u001b[0m\u001b[0;34m)\u001b[0m\u001b[0;34m)\u001b[0m\u001b[0;34m\u001b[0m\u001b[0;34m\u001b[0m\u001b[0m\n\u001b[0m\u001b[1;32m      6\u001b[0m   \u001b[0mflipped\u001b[0m \u001b[0;34m=\u001b[0m \u001b[0mnp\u001b[0m\u001b[0;34m.\u001b[0m\u001b[0mfliplr\u001b[0m\u001b[0;34m(\u001b[0m\u001b[0mimg\u001b[0m\u001b[0;34m)\u001b[0m\u001b[0;34m\u001b[0m\u001b[0;34m\u001b[0m\u001b[0m\n\u001b[1;32m      7\u001b[0m   \u001b[0;31m#delete original image\u001b[0m\u001b[0;34m\u001b[0m\u001b[0;34m\u001b[0m\u001b[0;34m\u001b[0m\u001b[0m\n",
            "\u001b[0;32m/usr/local/lib/python3.6/dist-packages/PIL/Image.py\u001b[0m in \u001b[0;36mopen\u001b[0;34m(fp, mode)\u001b[0m\n\u001b[1;32m   2807\u001b[0m \u001b[0;34m\u001b[0m\u001b[0m\n\u001b[1;32m   2808\u001b[0m     \u001b[0;32mif\u001b[0m \u001b[0mfilename\u001b[0m\u001b[0;34m:\u001b[0m\u001b[0;34m\u001b[0m\u001b[0;34m\u001b[0m\u001b[0m\n\u001b[0;32m-> 2809\u001b[0;31m         \u001b[0mfp\u001b[0m \u001b[0;34m=\u001b[0m \u001b[0mbuiltins\u001b[0m\u001b[0;34m.\u001b[0m\u001b[0mopen\u001b[0m\u001b[0;34m(\u001b[0m\u001b[0mfilename\u001b[0m\u001b[0;34m,\u001b[0m \u001b[0;34m\"rb\"\u001b[0m\u001b[0;34m)\u001b[0m\u001b[0;34m\u001b[0m\u001b[0;34m\u001b[0m\u001b[0m\n\u001b[0m\u001b[1;32m   2810\u001b[0m         \u001b[0mexclusive_fp\u001b[0m \u001b[0;34m=\u001b[0m \u001b[0;32mTrue\u001b[0m\u001b[0;34m\u001b[0m\u001b[0;34m\u001b[0m\u001b[0m\n\u001b[1;32m   2811\u001b[0m \u001b[0;34m\u001b[0m\u001b[0m\n",
            "\u001b[0;31mOSError\u001b[0m: [Errno 5] Input/output error: '/content/drive/My Drive/Final_redes/Notebooks/DarkNet-flipped/data/obj/00322d4d-1c29-4943-afc9-b6754be640eb.jpg'"
          ]
        }
      ]
    },
    {
      "cell_type": "markdown",
      "metadata": {
        "id": "vKxqrb5M_p2R",
        "colab_type": "text"
      },
      "source": [
        "# Bibliografía\n",
        "\n",
        "\n",
        "[1]   Joseph Redmon, Ali Farhadi (2013-2016). *Darknet: Open Source Neural Networks in C.* Available on: http://pjreddie.com/darknet/.\n",
        "\n",
        "[2]  Data Science Authority. *Blood Cells Detection with YOLOV3 Darknet*. Available on: https://www.datascienceauthority.com/post/blood-cells-detection-with-yolov3.\n",
        "\n",
        "[3] Jake Huneycutt. *YOLO Object Detection Walkthrough for the RSNA Pneumonia Detection Challenge using DarkFlow*. Available on: https://blog.goodaudience.com/yolo-object-detection-walkthrough-for-the-rsna-pneumonia-detection-challenge-123ec9a9adf2\n"
      ]
    }
  ]
}
